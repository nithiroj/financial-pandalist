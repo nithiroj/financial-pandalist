{
 "cells": [
  {
   "cell_type": "code",
   "execution_count": 1,
   "metadata": {},
   "outputs": [],
   "source": [
    "# !pip install google-cloud-aiplatform==1.36.3 litellm==0.14.1 trulens_eval==0.17.0 langchain==0.0.323 openai==0.27.6 chromadb==0.4.0 pypdf"
   ]
  },
  {
   "cell_type": "code",
   "execution_count": 3,
   "metadata": {},
   "outputs": [],
   "source": [
    "import os\n",
    "import utils\n",
    "\n",
    "os.environ[\"GOOGLE_APPLICATION_CREDENTIALS\"] = \"<GOOGLE_APPLICATION_CREDENTIALS>\"\n",
    "PROJECT_ID = \"<PROJECT_ID>\"\n",
    "REGION = 'us-central1'\n",
    "\n",
    "import vertexai\n",
    "\n",
    "vertexai.init(project=PROJECT_ID, location=REGION)"
   ]
  },
  {
   "cell_type": "markdown",
   "metadata": {},
   "source": [
    "## Loading Document"
   ]
  },
  {
   "cell_type": "code",
   "execution_count": 4,
   "metadata": {},
   "outputs": [],
   "source": [
    "# Ingest PDF files\n",
    "from langchain.document_loaders import PyPDFLoader\n",
    "\n",
    "# Load GOOG's 10K annual report (92 pages).\n",
    "file = \"./20230203_alphabet_10K.pdf\"\n",
    "loader = PyPDFLoader(file)\n",
    "documents = loader.load()"
   ]
  },
  {
   "cell_type": "code",
   "execution_count": 5,
   "metadata": {},
   "outputs": [
    {
     "name": "stdout",
     "output_type": "stream",
     "text": [
      "# of documents = 263\n"
     ]
    }
   ],
   "source": [
    "# split the documents into chunks\n",
    "from langchain.text_splitter import RecursiveCharacterTextSplitter\n",
    "\n",
    "text_splitter = RecursiveCharacterTextSplitter(chunk_size=1500, chunk_overlap=0)\n",
    "docs = text_splitter.split_documents(documents)\n",
    "print(f\"# of documents = {len(docs)}\")"
   ]
  },
  {
   "cell_type": "markdown",
   "metadata": {},
   "source": [
    "## Embeddings"
   ]
  },
  {
   "cell_type": "code",
   "execution_count": 6,
   "metadata": {},
   "outputs": [],
   "source": [
    "from utils import CustomVertexAIEmbeddings\n",
    "\n",
    "# Embedding\n",
    "EMBEDDING_QPM = 100\n",
    "EMBEDDING_NUM_BATCH = 5\n",
    "embeddings = CustomVertexAIEmbeddings(\n",
    "    requests_per_minute=EMBEDDING_QPM,\n",
    "    num_instances_per_batch=EMBEDDING_NUM_BATCH,\n",
    ")"
   ]
  },
  {
   "cell_type": "markdown",
   "metadata": {},
   "source": [
    "## Vector Store"
   ]
  },
  {
   "cell_type": "code",
   "execution_count": 7,
   "metadata": {},
   "outputs": [
    {
     "name": "stdout",
     "output_type": "stream",
     "text": [
      "Waiting\n",
      "...................................."
     ]
    }
   ],
   "source": [
    "from langchain.vectorstores import Chroma\n",
    "\n",
    "db = Chroma.from_documents(docs, embeddings)\n"
   ]
  },
  {
   "cell_type": "markdown",
   "metadata": {},
   "source": [
    "## Retriever"
   ]
  },
  {
   "cell_type": "code",
   "execution_count": 8,
   "metadata": {},
   "outputs": [],
   "source": [
    "# Expose index to the retriever\n",
    "retriever = db.as_retriever(search_type=\"similarity\", search_kwargs={\"k\": 2})"
   ]
  },
  {
   "cell_type": "markdown",
   "metadata": {},
   "source": [
    "## LLM"
   ]
  },
  {
   "cell_type": "code",
   "execution_count": 9,
   "metadata": {},
   "outputs": [],
   "source": [
    "from langchain.llms import VertexAI\n",
    "\n",
    "# LLM model\n",
    "llm = VertexAI(\n",
    "    model_name=\"text-bison@001\",\n",
    "    max_output_tokens=256,\n",
    "    temperature=0.1,\n",
    "    top_p=0.8,\n",
    "    top_k=40,\n",
    "    verbose=True,\n",
    ")"
   ]
  },
  {
   "cell_type": "markdown",
   "metadata": {},
   "source": [
    "## Trulens Evaluation"
   ]
  },
  {
   "cell_type": "markdown",
   "metadata": {},
   "source": [
    "### Evaluation Questions"
   ]
  },
  {
   "cell_type": "code",
   "execution_count": 10,
   "metadata": {},
   "outputs": [
    {
     "name": "stdout",
     "output_type": "stream",
     "text": [
      "What is the company's total revenue, and how has it changed over the past few years?\n",
      "What are the main sources of revenue for the company?\n",
      "How has the company's profitability (net income) trended over time?\n",
      "What are the major components of the company's cost of goods sold (COGS)?\n",
      "How have operating expenses (selling, general and administrative expenses) changed over the years?\n",
      "What is the company's operating cash flow, and how does it compare to net income?\n",
      "How does the company manage its working capital?\n",
      "What is the overall financial health of the company's balance sheet?\n",
      "How much debt does the company have, and what is its debt-to-equity ratio?\n",
      "What significant investments or capital expenditures has the company made recently?\n",
      "How does the company finance its capital investments?\n",
      "What are the key risk factors mentioned in the 10-K filing?\n",
      "How does the company assess and manage these risks?\n",
      "What insights does the Management Discussion and Analysis section provide regarding the company's performance and outlook?\n",
      "Are there any strategic initiatives or changes in business focus mentioned?\n",
      "How does the company position itself within its industry?\n",
      "What industry trends and competitive dynamics are highlighted in the filing?\n",
      "Are there any legal or regulatory issues that the company discloses in the 10-K?\n",
      "How might these issues impact the company's operations and financial performance?\n",
      "Does the company pay dividends, and if so, what is the dividend history?\n"
     ]
    }
   ],
   "source": [
    "eval_questions = []\n",
    "with open('eval_questions.txt', 'r') as file:\n",
    "    for line in file:\n",
    "        # Remove newline character and convert to integer\n",
    "        item = line.strip()\n",
    "        print(item)\n",
    "        eval_questions.append(item)"
   ]
  },
  {
   "cell_type": "markdown",
   "metadata": {},
   "source": [
    "## Reset Database"
   ]
  },
  {
   "cell_type": "code",
   "execution_count": 27,
   "metadata": {},
   "outputs": [
    {
     "name": "stdout",
     "output_type": "stream",
     "text": [
      "Deleted 4 rows.\n"
     ]
    }
   ],
   "source": [
    "from trulens_eval import (\n",
    "    Tru,\n",
    "    TruChain,\n",
    "    Feedback,\n",
    "    LiteLLM,\n",
    "    feedback,\n",
    "    Select,\n",
    ")\n",
    "\n",
    "tru = Tru()\n",
    "\n",
    "tru.reset_database()"
   ]
  },
  {
   "cell_type": "markdown",
   "metadata": {},
   "source": [
    "### Triad Feedbacks"
   ]
  },
  {
   "cell_type": "code",
   "execution_count": 28,
   "metadata": {},
   "outputs": [
    {
     "name": "stdout",
     "output_type": "stream",
     "text": [
      "✅ In Answer Relevance, input prompt will be set to __record__.main_input or `Select.RecordInput` .\n",
      "✅ In Answer Relevance, input response will be set to __record__.main_output or `Select.RecordOutput` .\n",
      "✅ In Context Relevance, input prompt will be set to __record__.main_input or `Select.RecordInput` .\n",
      "✅ In Context Relevance, input response will be set to __record__.app.combine_documents_chain._call.args.inputs.input_documents[:].page_content .\n",
      "✅ In Groundedness, input source will be set to __record__.app.combine_documents_chain._call.args.inputs.input_documents[:].page_content .\n",
      "✅ In Groundedness, input statement will be set to __record__.main_output or `Select.RecordOutput` .\n"
     ]
    }
   ],
   "source": [
    "import numpy as np\n",
    "# Initialize LiteLLM-based feedback function collection class:\n",
    "# llm = OpenAI()\n",
    "chat = LiteLLM(model_engine=\"chat-bison\", verbose=True)\n",
    "# Define a relevance function using LiteLLM\n",
    "qa_relevance = (\n",
    "    Feedback(chat.relevance_with_cot_reasons, name=\"Answer Relevance\")\n",
    "    .on_input_output()\n",
    ")\n",
    "# By default this will check relevance on the main app input and main app\n",
    "# output.\n",
    "\n",
    "qs_relevance = (\n",
    "    Feedback(chat.relevance_with_cot_reasons, name=\"Context Relevance\")\n",
    "    .on_input()\n",
    "    .on(Select.Record.app.combine_documents_chain._call.args.inputs.input_documents[:].page_content)\n",
    "    .aggregate(np.mean)\n",
    ")\n",
    "\n",
    "# Groundedness between each context chunk and the response.\n",
    "grounded = feedback.Groundedness(chat)\n",
    "groundedness = (\n",
    "    Feedback(grounded.groundedness_measure_with_cot_reasons, \n",
    "                      name=\"Groundedness\")\n",
    "    .on(Select.Record.app.combine_documents_chain._call.args.inputs.input_documents[:].page_content)\n",
    "    .on_output()\n",
    "    .aggregate(grounded.grounded_statements_aggregator)\n",
    ")"
   ]
  },
  {
   "cell_type": "markdown",
   "metadata": {},
   "source": [
    "## Chain Types\n",
    "\n",
    "- `stuff`\n",
    "- `map_reduce`\n",
    "- `refine`\n",
    "- `map_rerank`"
   ]
  },
  {
   "cell_type": "code",
   "execution_count": null,
   "metadata": {},
   "outputs": [],
   "source": [
    "def text_format(text):\n",
    "    return text.replace('_', '-').capitalize()"
   ]
  },
  {
   "cell_type": "markdown",
   "metadata": {},
   "source": [
    "## QA Stuff Chain"
   ]
  },
  {
   "cell_type": "code",
   "execution_count": 29,
   "metadata": {},
   "outputs": [],
   "source": [
    "from langchain.chains import RetrievalQA\n",
    "\n",
    "chain_type = 'stuff'\n",
    "\n",
    "# Uses LLM to synthesize results from the search index.\n",
    "# We use Vertex PaLM Text API for LLM\n",
    "qa = RetrievalQA.from_chain_type(\n",
    "    llm=llm, \n",
    "    chain_type=chain_type, \n",
    "    retriever=retriever, \n",
    "    return_source_documents=True\n",
    ")"
   ]
  },
  {
   "cell_type": "code",
   "execution_count": 30,
   "metadata": {},
   "outputs": [
    {
     "name": "stdout",
     "output_type": "stream",
     "text": [
      "✅ added app Retrieval Stuff Chain\n",
      "✅ added feedback definition feedback_definition_hash_9db3c5dbfc9dfd237016008d518bf9c7\n",
      "✅ added feedback definition feedback_definition_hash_c54a29c9b195a2705ba418ad8dd3fdff\n",
      "✅ added feedback definition feedback_definition_hash_6d5cf3e928090fd959e958f8bbdb68a9\n"
     ]
    }
   ],
   "source": [
    "app_id=f'Retrieval {text_format(chain_type)} Chain'\n",
    "\n",
    "tru_recorder = TruChain(\n",
    "    qa,\n",
    "    app_id=app_id,\n",
    "    feedbacks=[qa_relevance, groundedness, qs_relevance]\n",
    ")"
   ]
  },
  {
   "cell_type": "code",
   "execution_count": 31,
   "metadata": {},
   "outputs": [
    {
     "name": "stdout",
     "output_type": "stream",
     "text": [
      "✅ added record record_hash_8e46ae5fe2b5e2bf05a0104c91187b58\n",
      "✅ feedback result Answer Relevance DONE feedback_result_hash_e48045f0ff7dd483b75f766e229ed401\n",
      "✅ feedback result Groundedness DONE feedback_result_hash_5f717beb448247df23a34864e45f06d3\n",
      "✅ feedback result Context Relevance DONE feedback_result_hash_9543a13aa1cc3d54a4970e68e298a9b9\n",
      "✅ added record record_hash_2b4b6edbd32269ee7fdb27dffedddde9\n",
      "✅ feedback result Answer Relevance DONE feedback_result_hash_5a9e023a726ed320a0c15bc6757d119f\n",
      "✅ feedback result Context Relevance DONE feedback_result_hash_6bc6a7856e5ecc2fef0877f27f41f823\n",
      "✅ feedback result Groundedness DONE feedback_result_hash_1ea35a18f9f4432dff333b9b01e78a71\n",
      "✅ added record record_hash_4d25641669d4715bce194b1218c55788\n",
      "✅ feedback result Answer Relevance DONE feedback_result_hash_93f55b327bf4f53339161187fac01769\n",
      "✅ feedback result Groundedness DONE feedback_result_hash_fb1935f0f32c0a6c667135536179f36a\n",
      "✅ feedback result Context Relevance DONE feedback_result_hash_4ccc86c9cc305912ad699fcc899b564c\n",
      "✅ added record record_hash_5d95a9202073f164a44a3183f765e61a\n",
      "✅ feedback result Answer Relevance DONE feedback_result_hash_fcb5300817e422220f0ac121a538455f\n",
      "✅ feedback result Groundedness DONE feedback_result_hash_896f16685cf0a719f41442682a132a12\n",
      "✅ feedback result Context Relevance DONE feedback_result_hash_16df6b25c93da86ca595b06b77f93e94\n",
      "✅ added record record_hash_9719309fde32b6e0c8d72f79f9107533\n",
      "✅ feedback result Answer Relevance DONE feedback_result_hash_354face10989dda01ef6e1f2b5d3d0f0\n",
      "✅ feedback result Context Relevance DONE feedback_result_hash_efd8b171c4dfd80e8a54641b69b286d8\n",
      "✅ feedback result Groundedness DONE feedback_result_hash_c2c17ebf18ba64edc6500eb4f2e0401a\n",
      "✅ added record record_hash_29076d5f3439c752d2a74f679d75f737\n",
      "✅ feedback result Answer Relevance DONE feedback_result_hash_7a4504557b01853cb2978be535101660\n",
      "✅ feedback result Groundedness DONE feedback_result_hash_9af79da18cf80b7805f85acf0e0aba43\n",
      "✅ feedback result Context Relevance DONE feedback_result_hash_2b4ca9b51126eaac535968ab94fbe296\n",
      "✅ added record record_hash_180d287fbfd50e1f5181de5ca2a3503b\n",
      "✅ feedback result Answer Relevance DONE feedback_result_hash_f41843679e0bae339806b9593d6de488\n",
      "✅ feedback result Groundedness DONE feedback_result_hash_5cdf5005e734a7def285fe444897ec12\n",
      "✅ feedback result Context Relevance DONE feedback_result_hash_f74eca6abbbb5668cf7ae77d248819bb\n",
      "✅ added record record_hash_dfbeb264aa3960829349fbf17b6fd806\n",
      "✅ feedback result Answer Relevance DONE feedback_result_hash_adfe218c2bd0d2da623eeb7ae0fcd36d\n",
      "✅ feedback result Context Relevance DONE feedback_result_hash_2d5a0cfe7ca78d4515351c3529e428c5\n",
      "✅ feedback result Groundedness DONE feedback_result_hash_2b80481ecf29cd2323ec53eb5dc7b50d\n",
      "✅ added record record_hash_bfea4b8de19d63c95740cfced94789e2\n",
      "✅ feedback result Answer Relevance DONE feedback_result_hash_dd85a0fe8268a775b994257ce4fa8aaa\n",
      "✅ feedback result Groundedness DONE feedback_result_hash_b657a263f5425faa080ae51dde32a109\n",
      "✅ feedback result Context Relevance DONE feedback_result_hash_591727055aed9a2999bae2557d35a639\n",
      "✅ added record record_hash_6361a917e19a978cb3112298bec58c27\n",
      "✅ feedback result Answer Relevance DONE feedback_result_hash_d1870fc2dfb6ac77032c86e2920a8b8b\n",
      "✅ feedback result Groundedness DONE feedback_result_hash_7711161e71e69bd1684148ec2949e329\n",
      "✅ feedback result Context Relevance DONE feedback_result_hash_b7459a1cf33d1ad7e7f0d1b121bdcb15\n",
      "✅ added record record_hash_74d78d583f107b969a5901eeb76832ce\n",
      "✅ feedback result Answer Relevance DONE feedback_result_hash_c2ece28bc32fe93acfadd881e4058b50\n",
      "✅ feedback result Context Relevance DONE feedback_result_hash_3b769009a6ed8a462682be6a16cdf70d\n",
      "✅ feedback result Groundedness DONE feedback_result_hash_089fd10b8a561a54790cbcc7d10cf7b3\n",
      "✅ added record record_hash_980c9f42e95a29a738750b50ba7931aa\n",
      "✅ feedback result Answer Relevance DONE feedback_result_hash_0c4916ad4f2f5c814c3a02a82677b977\n",
      "✅ feedback result Context Relevance DONE feedback_result_hash_25c8f4ddb47e84ca5978a0854dab3f87\n",
      "✅ feedback result Groundedness DONE feedback_result_hash_eb475910f14faf0e3f77e04900e71c5c\n",
      "✅ added record record_hash_c98e3b6ff898a9d0910700f0317dc228\n",
      "✅ feedback result Answer Relevance DONE feedback_result_hash_be275361adbf5b6b9036d0e7242b65f6\n",
      "✅ feedback result Context Relevance DONE feedback_result_hash_701ee3de8ef4cb197f419ebe157449b2\n",
      "✅ feedback result Groundedness DONE feedback_result_hash_23654607d61a5b5d4e183ef06c4e4bf7\n",
      "✅ added record record_hash_921a00c5f93170a645310ddd0e1e9ea2\n",
      "✅ feedback result Answer Relevance DONE feedback_result_hash_a6db2882dbac7d6a27def049731fd6c3\n",
      "✅ feedback result Context Relevance DONE feedback_result_hash_22a04e728b2f18d572dd000daaa8f085\n",
      "✅ feedback result Groundedness DONE feedback_result_hash_931cb26c5d60438dc182d26cdf7b269a\n",
      "✅ added record record_hash_6a0a3a52d0a936e7165dbde0d9b4656a\n",
      "✅ feedback result Answer Relevance DONE feedback_result_hash_eaf0964c65d4b0048a00a0356469f54a\n",
      "✅ feedback result Context Relevance DONE feedback_result_hash_de326f51c4440376ac2f1749d726ddac\n",
      "✅ feedback result Groundedness DONE feedback_result_hash_eecbdb98bf8c981829a4d71895ccbc76\n",
      "✅ added record record_hash_fb6bc222130fd5e129e735008194c791\n",
      "✅ feedback result Answer Relevance DONE feedback_result_hash_bef3dd676a334387241ee29d5067cd5c\n",
      "✅ feedback result Groundedness DONE feedback_result_hash_610d79258c2d8753009ad3c0f2ac47b9\n",
      "✅ feedback result Context Relevance DONE feedback_result_hash_8442e53d00bee6c2d3623ee24b3eccb6\n",
      "✅ added record record_hash_bede0af017d719e4b0972c1bc8954a02\n",
      "✅ feedback result Answer Relevance DONE feedback_result_hash_9c0532db93ac4249a72ac82c47b0433a\n",
      "✅ feedback result Groundedness DONE feedback_result_hash_efc792861b3ad40fbf1342691153d38a\n",
      "✅ feedback result Context Relevance DONE feedback_result_hash_217d5fd4d343871e6e853907c0e0c034\n",
      "✅ added record record_hash_78dea7582c064bb833449d0f7736aa7d\n",
      "✅ feedback result Answer Relevance DONE feedback_result_hash_00e195c9a6380d9837ca06a5e9bca334\n",
      "✅ feedback result Context Relevance DONE feedback_result_hash_1a919b60f3133d2b5fb75fadcc021a86\n",
      "✅ feedback result Groundedness DONE feedback_result_hash_7b14c5c146fac66b43cb0a60bdd74b6a\n",
      "✅ added record record_hash_e0edb55ae61e4c8b0eb2b445bd4309cc\n",
      "✅ feedback result Answer Relevance DONE feedback_result_hash_2ebccc5d45a58170a878cb8115396855\n",
      "✅ feedback result Groundedness DONE feedback_result_hash_aacd73f184f3015b0e8cbb4fbb662a03\n",
      "✅ feedback result Context Relevance DONE feedback_result_hash_ddde286136d3857f472198a445746fdb\n",
      "✅ added record record_hash_7182731f356e48de865631c57b01c98e\n",
      "✅ feedback result Answer Relevance DONE feedback_result_hash_284a1d257eb5c6ef48e496ae0196af61\n",
      "✅ feedback result Groundedness DONE feedback_result_hash_15383d26d5a7a3bd05f4a112915e7b69\n",
      "✅ feedback result Context Relevance DONE feedback_result_hash_8cd0da6b86d757f5afc4344e1b6ee3ad\n"
     ]
    }
   ],
   "source": [
    "import time\n",
    "\n",
    "with tru_recorder as recording:\n",
    "    for question in eval_questions:\n",
    "        response = qa({\"query\": question})\n",
    "        time.sleep(20)"
   ]
  },
  {
   "cell_type": "code",
   "execution_count": 32,
   "metadata": {},
   "outputs": [
    {
     "data": {
      "text/html": [
       "<div>\n",
       "<style scoped>\n",
       "    .dataframe tbody tr th:only-of-type {\n",
       "        vertical-align: middle;\n",
       "    }\n",
       "\n",
       "    .dataframe tbody tr th {\n",
       "        vertical-align: top;\n",
       "    }\n",
       "\n",
       "    .dataframe thead th {\n",
       "        text-align: right;\n",
       "    }\n",
       "</style>\n",
       "<table border=\"1\" class=\"dataframe\">\n",
       "  <thead>\n",
       "    <tr style=\"text-align: right;\">\n",
       "      <th></th>\n",
       "      <th>app_id</th>\n",
       "      <th>app_json</th>\n",
       "      <th>type</th>\n",
       "      <th>record_id</th>\n",
       "      <th>input</th>\n",
       "      <th>output</th>\n",
       "      <th>tags</th>\n",
       "      <th>record_json</th>\n",
       "      <th>cost_json</th>\n",
       "      <th>perf_json</th>\n",
       "      <th>ts</th>\n",
       "      <th>Answer Relevance</th>\n",
       "      <th>Groundedness</th>\n",
       "      <th>Context Relevance</th>\n",
       "      <th>Answer Relevance_calls</th>\n",
       "      <th>Groundedness_calls</th>\n",
       "      <th>Context Relevance_calls</th>\n",
       "      <th>latency</th>\n",
       "      <th>total_tokens</th>\n",
       "      <th>total_cost</th>\n",
       "    </tr>\n",
       "  </thead>\n",
       "  <tbody>\n",
       "    <tr>\n",
       "      <th>0</th>\n",
       "      <td>Retrieval Stuff Chain</td>\n",
       "      <td>{\"app_id\": \"Retrieval Stuff Chain\", \"tags\": \"-...</td>\n",
       "      <td>RetrievalQA(langchain.chains.retrieval_qa.base)</td>\n",
       "      <td>record_hash_8e46ae5fe2b5e2bf05a0104c91187b58</td>\n",
       "      <td>\"What is the company's total revenue, and how ...</td>\n",
       "      <td>\"The company's total revenue is not mentioned ...</td>\n",
       "      <td>-</td>\n",
       "      <td>{\"record_id\": \"record_hash_8e46ae5fe2b5e2bf05a...</td>\n",
       "      <td>{\"n_requests\": 0, \"n_successful_requests\": 0, ...</td>\n",
       "      <td>{\"start_time\": \"2023-12-07T17:02:21.371606\", \"...</td>\n",
       "      <td>2023-12-07T17:02:25.160800</td>\n",
       "      <td>0.0</td>\n",
       "      <td>0.0</td>\n",
       "      <td>0.35</td>\n",
       "      <td>[{'args': {'prompt': 'What is the company's to...</td>\n",
       "      <td>[{'args': {'source': 'In addition to the long-...</td>\n",
       "      <td>[{'args': {'prompt': 'What is the company's to...</td>\n",
       "      <td>3</td>\n",
       "      <td>0</td>\n",
       "      <td>0.0</td>\n",
       "    </tr>\n",
       "    <tr>\n",
       "      <th>1</th>\n",
       "      <td>Retrieval Stuff Chain</td>\n",
       "      <td>{\"app_id\": \"Retrieval Stuff Chain\", \"tags\": \"-...</td>\n",
       "      <td>RetrievalQA(langchain.chains.retrieval_qa.base)</td>\n",
       "      <td>record_hash_2b4b6edbd32269ee7fdb27dffedddde9</td>\n",
       "      <td>\"What are the main sources of revenue for the ...</td>\n",
       "      <td>\"The main sources of revenue for the company a...</td>\n",
       "      <td>-</td>\n",
       "      <td>{\"record_id\": \"record_hash_2b4b6edbd32269ee7fd...</td>\n",
       "      <td>{\"n_requests\": 0, \"n_successful_requests\": 0, ...</td>\n",
       "      <td>{\"start_time\": \"2023-12-07T17:02:45.625080\", \"...</td>\n",
       "      <td>2023-12-07T17:02:47.398560</td>\n",
       "      <td>0.9</td>\n",
       "      <td>1.0</td>\n",
       "      <td>0.00</td>\n",
       "      <td>[{'args': {'prompt': 'What are the main source...</td>\n",
       "      <td>[{'args': {'source': 'Sources, Uses of Cash, a...</td>\n",
       "      <td>[{'args': {'prompt': 'What are the main source...</td>\n",
       "      <td>1</td>\n",
       "      <td>0</td>\n",
       "      <td>0.0</td>\n",
       "    </tr>\n",
       "    <tr>\n",
       "      <th>2</th>\n",
       "      <td>Retrieval Stuff Chain</td>\n",
       "      <td>{\"app_id\": \"Retrieval Stuff Chain\", \"tags\": \"-...</td>\n",
       "      <td>RetrievalQA(langchain.chains.retrieval_qa.base)</td>\n",
       "      <td>record_hash_4d25641669d4715bce194b1218c55788</td>\n",
       "      <td>\"How has the company's profitability (net inco...</td>\n",
       "      <td>\"The company's profitability has trended upwar...</td>\n",
       "      <td>-</td>\n",
       "      <td>{\"record_id\": \"record_hash_4d25641669d4715bce1...</td>\n",
       "      <td>{\"n_requests\": 0, \"n_successful_requests\": 0, ...</td>\n",
       "      <td>{\"start_time\": \"2023-12-07T17:03:07.861523\", \"...</td>\n",
       "      <td>2023-12-07T17:03:09.640786</td>\n",
       "      <td>1.0</td>\n",
       "      <td>0.0</td>\n",
       "      <td>0.20</td>\n",
       "      <td>[{'args': {'prompt': 'How has the company's pr...</td>\n",
       "      <td>[{'args': {'source': 'ITEM 7. MANAGEMENT’S DIS...</td>\n",
       "      <td>[{'args': {'prompt': 'How has the company's pr...</td>\n",
       "      <td>1</td>\n",
       "      <td>0</td>\n",
       "      <td>0.0</td>\n",
       "    </tr>\n",
       "    <tr>\n",
       "      <th>3</th>\n",
       "      <td>Retrieval Stuff Chain</td>\n",
       "      <td>{\"app_id\": \"Retrieval Stuff Chain\", \"tags\": \"-...</td>\n",
       "      <td>RetrievalQA(langchain.chains.retrieval_qa.base)</td>\n",
       "      <td>record_hash_5d95a9202073f164a44a3183f765e61a</td>\n",
       "      <td>\"What are the major components of the company'...</td>\n",
       "      <td>\"The question is not answerable. The context d...</td>\n",
       "      <td>-</td>\n",
       "      <td>{\"record_id\": \"record_hash_5d95a9202073f164a44...</td>\n",
       "      <td>{\"n_requests\": 0, \"n_successful_requests\": 0, ...</td>\n",
       "      <td>{\"start_time\": \"2023-12-07T17:03:30.022034\", \"...</td>\n",
       "      <td>2023-12-07T17:03:32.003101</td>\n",
       "      <td>0.0</td>\n",
       "      <td>0.0</td>\n",
       "      <td>0.00</td>\n",
       "      <td>[{'args': {'prompt': 'What are the major compo...</td>\n",
       "      <td>[{'args': {'source': 'The main components of o...</td>\n",
       "      <td>[{'args': {'prompt': 'What are the major compo...</td>\n",
       "      <td>1</td>\n",
       "      <td>0</td>\n",
       "      <td>0.0</td>\n",
       "    </tr>\n",
       "    <tr>\n",
       "      <th>4</th>\n",
       "      <td>Retrieval Stuff Chain</td>\n",
       "      <td>{\"app_id\": \"Retrieval Stuff Chain\", \"tags\": \"-...</td>\n",
       "      <td>RetrievalQA(langchain.chains.retrieval_qa.base)</td>\n",
       "      <td>record_hash_9719309fde32b6e0c8d72f79f9107533</td>\n",
       "      <td>\"How have operating expenses (selling, general...</td>\n",
       "      <td>\"Operating expenses increased by $11.4 billion...</td>\n",
       "      <td>-</td>\n",
       "      <td>{\"record_id\": \"record_hash_9719309fde32b6e0c8d...</td>\n",
       "      <td>{\"n_requests\": 0, \"n_successful_requests\": 0, ...</td>\n",
       "      <td>{\"start_time\": \"2023-12-07T17:03:52.520988\", \"...</td>\n",
       "      <td>2023-12-07T17:03:54.569605</td>\n",
       "      <td>1.0</td>\n",
       "      <td>0.8</td>\n",
       "      <td>0.85</td>\n",
       "      <td>[{'args': {'prompt': 'How have operating expen...</td>\n",
       "      <td>[{'args': {'source': 'Research and Development...</td>\n",
       "      <td>[{'args': {'prompt': 'How have operating expen...</td>\n",
       "      <td>2</td>\n",
       "      <td>0</td>\n",
       "      <td>0.0</td>\n",
       "    </tr>\n",
       "  </tbody>\n",
       "</table>\n",
       "</div>"
      ],
      "text/plain": [
       "                  app_id                                           app_json  \\\n",
       "0  Retrieval Stuff Chain  {\"app_id\": \"Retrieval Stuff Chain\", \"tags\": \"-...   \n",
       "1  Retrieval Stuff Chain  {\"app_id\": \"Retrieval Stuff Chain\", \"tags\": \"-...   \n",
       "2  Retrieval Stuff Chain  {\"app_id\": \"Retrieval Stuff Chain\", \"tags\": \"-...   \n",
       "3  Retrieval Stuff Chain  {\"app_id\": \"Retrieval Stuff Chain\", \"tags\": \"-...   \n",
       "4  Retrieval Stuff Chain  {\"app_id\": \"Retrieval Stuff Chain\", \"tags\": \"-...   \n",
       "\n",
       "                                              type  \\\n",
       "0  RetrievalQA(langchain.chains.retrieval_qa.base)   \n",
       "1  RetrievalQA(langchain.chains.retrieval_qa.base)   \n",
       "2  RetrievalQA(langchain.chains.retrieval_qa.base)   \n",
       "3  RetrievalQA(langchain.chains.retrieval_qa.base)   \n",
       "4  RetrievalQA(langchain.chains.retrieval_qa.base)   \n",
       "\n",
       "                                      record_id  \\\n",
       "0  record_hash_8e46ae5fe2b5e2bf05a0104c91187b58   \n",
       "1  record_hash_2b4b6edbd32269ee7fdb27dffedddde9   \n",
       "2  record_hash_4d25641669d4715bce194b1218c55788   \n",
       "3  record_hash_5d95a9202073f164a44a3183f765e61a   \n",
       "4  record_hash_9719309fde32b6e0c8d72f79f9107533   \n",
       "\n",
       "                                               input  \\\n",
       "0  \"What is the company's total revenue, and how ...   \n",
       "1  \"What are the main sources of revenue for the ...   \n",
       "2  \"How has the company's profitability (net inco...   \n",
       "3  \"What are the major components of the company'...   \n",
       "4  \"How have operating expenses (selling, general...   \n",
       "\n",
       "                                              output tags  \\\n",
       "0  \"The company's total revenue is not mentioned ...    -   \n",
       "1  \"The main sources of revenue for the company a...    -   \n",
       "2  \"The company's profitability has trended upwar...    -   \n",
       "3  \"The question is not answerable. The context d...    -   \n",
       "4  \"Operating expenses increased by $11.4 billion...    -   \n",
       "\n",
       "                                         record_json  \\\n",
       "0  {\"record_id\": \"record_hash_8e46ae5fe2b5e2bf05a...   \n",
       "1  {\"record_id\": \"record_hash_2b4b6edbd32269ee7fd...   \n",
       "2  {\"record_id\": \"record_hash_4d25641669d4715bce1...   \n",
       "3  {\"record_id\": \"record_hash_5d95a9202073f164a44...   \n",
       "4  {\"record_id\": \"record_hash_9719309fde32b6e0c8d...   \n",
       "\n",
       "                                           cost_json  \\\n",
       "0  {\"n_requests\": 0, \"n_successful_requests\": 0, ...   \n",
       "1  {\"n_requests\": 0, \"n_successful_requests\": 0, ...   \n",
       "2  {\"n_requests\": 0, \"n_successful_requests\": 0, ...   \n",
       "3  {\"n_requests\": 0, \"n_successful_requests\": 0, ...   \n",
       "4  {\"n_requests\": 0, \"n_successful_requests\": 0, ...   \n",
       "\n",
       "                                           perf_json  \\\n",
       "0  {\"start_time\": \"2023-12-07T17:02:21.371606\", \"...   \n",
       "1  {\"start_time\": \"2023-12-07T17:02:45.625080\", \"...   \n",
       "2  {\"start_time\": \"2023-12-07T17:03:07.861523\", \"...   \n",
       "3  {\"start_time\": \"2023-12-07T17:03:30.022034\", \"...   \n",
       "4  {\"start_time\": \"2023-12-07T17:03:52.520988\", \"...   \n",
       "\n",
       "                           ts  Answer Relevance  Groundedness  \\\n",
       "0  2023-12-07T17:02:25.160800               0.0           0.0   \n",
       "1  2023-12-07T17:02:47.398560               0.9           1.0   \n",
       "2  2023-12-07T17:03:09.640786               1.0           0.0   \n",
       "3  2023-12-07T17:03:32.003101               0.0           0.0   \n",
       "4  2023-12-07T17:03:54.569605               1.0           0.8   \n",
       "\n",
       "   Context Relevance                             Answer Relevance_calls  \\\n",
       "0               0.35  [{'args': {'prompt': 'What is the company's to...   \n",
       "1               0.00  [{'args': {'prompt': 'What are the main source...   \n",
       "2               0.20  [{'args': {'prompt': 'How has the company's pr...   \n",
       "3               0.00  [{'args': {'prompt': 'What are the major compo...   \n",
       "4               0.85  [{'args': {'prompt': 'How have operating expen...   \n",
       "\n",
       "                                  Groundedness_calls  \\\n",
       "0  [{'args': {'source': 'In addition to the long-...   \n",
       "1  [{'args': {'source': 'Sources, Uses of Cash, a...   \n",
       "2  [{'args': {'source': 'ITEM 7. MANAGEMENT’S DIS...   \n",
       "3  [{'args': {'source': 'The main components of o...   \n",
       "4  [{'args': {'source': 'Research and Development...   \n",
       "\n",
       "                             Context Relevance_calls  latency  total_tokens  \\\n",
       "0  [{'args': {'prompt': 'What is the company's to...        3             0   \n",
       "1  [{'args': {'prompt': 'What are the main source...        1             0   \n",
       "2  [{'args': {'prompt': 'How has the company's pr...        1             0   \n",
       "3  [{'args': {'prompt': 'What are the major compo...        1             0   \n",
       "4  [{'args': {'prompt': 'How have operating expen...        2             0   \n",
       "\n",
       "   total_cost  \n",
       "0         0.0  \n",
       "1         0.0  \n",
       "2         0.0  \n",
       "3         0.0  \n",
       "4         0.0  "
      ]
     },
     "execution_count": 32,
     "metadata": {},
     "output_type": "execute_result"
    }
   ],
   "source": [
    "records, feedback = tru.get_records_and_feedback(app_ids=[app_id])\n",
    "\n",
    "records.head()"
   ]
  },
  {
   "cell_type": "code",
   "execution_count": 34,
   "metadata": {},
   "outputs": [
    {
     "name": "stdout",
     "output_type": "stream",
     "text": [
      "Starting dashboard ...\n"
     ]
    },
    {
     "data": {
      "application/vnd.jupyter.widget-view+json": {
       "model_id": "3d3e2814b34a45ff8127184baf038ace",
       "version_major": 2,
       "version_minor": 0
      },
      "text/plain": [
       "Accordion(children=(VBox(children=(VBox(children=(Label(value='STDOUT'), Output())), VBox(children=(Label(valu…"
      ]
     },
     "metadata": {},
     "output_type": "display_data"
    },
    {
     "name": "stdout",
     "output_type": "stream",
     "text": [
      "Dashboard started at http://192.168.1.102:8501 .\n"
     ]
    },
    {
     "data": {
      "text/plain": [
       "<Popen: returncode: None args: ['streamlit', 'run', '--server.headless=True'...>"
      ]
     },
     "execution_count": 34,
     "metadata": {},
     "output_type": "execute_result"
    }
   ],
   "source": [
    "# launches on http://localhost:8501/\n",
    "tru.run_dashboard()\n",
    "\n",
    "# tru.stop_dashboard() # stop if needed"
   ]
  },
  {
   "cell_type": "markdown",
   "metadata": {},
   "source": [
    "## QA Map-Reduce Chain"
   ]
  },
  {
   "cell_type": "code",
   "execution_count": 35,
   "metadata": {},
   "outputs": [],
   "source": [
    "from langchain.chains import RetrievalQA\n",
    "\n",
    "chain_type = \"map_reduce\"\n",
    "\n",
    "# Uses LLM to synthesize results from the search index.\n",
    "# We use Vertex PaLM Text API for LLM\n",
    "qa = RetrievalQA.from_chain_type(\n",
    "    llm=llm, \n",
    "    chain_type=chain_type, \n",
    "    retriever=retriever, \n",
    "    return_source_documents=True\n",
    ")"
   ]
  },
  {
   "cell_type": "code",
   "execution_count": 36,
   "metadata": {},
   "outputs": [
    {
     "name": "stdout",
     "output_type": "stream",
     "text": [
      "✅ added app Retrieval Map-reduce Chain\n",
      "✅ added feedback definition feedback_definition_hash_9db3c5dbfc9dfd237016008d518bf9c7\n",
      "✅ added feedback definition feedback_definition_hash_c54a29c9b195a2705ba418ad8dd3fdff\n",
      "✅ added feedback definition feedback_definition_hash_6d5cf3e928090fd959e958f8bbdb68a9\n"
     ]
    }
   ],
   "source": [
    "app_id=f'Retrieval {text_format(chain_type)} Chain'\n",
    "\n",
    "tru_recorder = TruChain(\n",
    "    qa,\n",
    "    app_id=app_id,\n",
    "    feedbacks=[qa_relevance, groundedness, qs_relevance]\n",
    ")"
   ]
  },
  {
   "cell_type": "code",
   "execution_count": 37,
   "metadata": {},
   "outputs": [
    {
     "name": "stderr",
     "output_type": "stream",
     "text": [
      "A new object of type <class 'langchain.chains.retrieval_qa.base.RetrievalQA'> at 0x7efe1eb7fb40 is calling an instrumented method <function Chain.__call__ at 0x7efe54ee6f80>. The path of this call may be incorrect.\n",
      "Guessing path of new object is app based on other object (0x7efe17b336c0) using this function.\n",
      "A new object of type <class 'langchain.chains.retrieval_qa.base.RetrievalQA'> at 0x7efe1eb7fb40 is calling an instrumented method <function BaseRetrievalQA._call at 0x7efe46264c10>. The path of this call may be incorrect.\n",
      "Guessing path of new object is app based on other object (0x7efe17b336c0) using this function.\n",
      "A new object of type <class 'langchain.schema.vectorstore.VectorStoreRetriever'> at 0x7efe1eb7f500 is calling an instrumented method <function VectorStoreRetriever._get_relevant_documents at 0x7efe900d75b0>. The path of this call may be incorrect.\n",
      "Guessing path of new object is app.retriever based on other object (0x7efe17b30f80) using this function.\n",
      "A new object of type <class 'langchain.chains.combine_documents.map_reduce.MapReduceDocumentsChain'> at 0x7efe1eb7c4c0 is calling an instrumented method <function Chain.__call__ at 0x7efe54ee6f80>. The path of this call may be incorrect.\n",
      "Guessing path of new object is app based on other object (0x7efe17b336c0) using this function.\n",
      "A new object of type <class 'langchain.chains.combine_documents.map_reduce.MapReduceDocumentsChain'> at 0x7efe1eb7c4c0 is calling an instrumented method <function BaseCombineDocumentsChain._call at 0x7efe81164a60>. The path of this call may be incorrect.\n",
      "Guessing path of new object is app.combine_documents_chain based on other object (0x7efe17b30940) using this function.\n",
      "None of PyTorch, TensorFlow >= 2.0, or Flax have been found. Models won't be available and only tokenizers, configuration and file/data utilities can be used.\n",
      "Token indices sequence length is longer than the specified maximum sequence length for this model (1549 > 1024). Running this sequence through the model will result in indexing errors\n",
      "A new object of type <class 'langchain.chains.llm.LLMChain'> at 0x7efe1eb7eac0 is calling an instrumented method <function Chain.__call__ at 0x7efe54ee6f80>. The path of this call may be incorrect.\n",
      "Guessing path of new object is app based on other object (0x7efe17b336c0) using this function.\n",
      "A new object of type <class 'langchain.chains.llm.LLMChain'> at 0x7efe1eb7eac0 is calling an instrumented method <function LLMChain._call at 0x7efe54ee7d00>. The path of this call may be incorrect.\n",
      "Guessing path of new object is app.combine_documents_chain.llm_chain based on other object (0x7efe17b31a80) using this function.\n"
     ]
    },
    {
     "name": "stdout",
     "output_type": "stream",
     "text": [
      "✅ added record record_hash_b31b88a9d5b2bce56449af711bc0a271\n",
      "✅ feedback result Answer Relevance DONE feedback_result_hash_6a09e422c9882e500310722565ec2210\n",
      "✅ feedback result Groundedness DONE feedback_result_hash_2217d99703e0e29bd622450f7dbfbcee\n",
      "✅ feedback result Context Relevance DONE feedback_result_hash_83be895afd1210fc1548494d08edf5f6\n"
     ]
    },
    {
     "name": "stderr",
     "output_type": "stream",
     "text": [
      "A new object of type <class 'langchain.chains.retrieval_qa.base.RetrievalQA'> at 0x7efe1eb7fb40 is calling an instrumented method <function BaseRetrievalQA._call at 0x7efe46264c10>. The path of this call may be incorrect.\n",
      "Guessing path of new object is app based on other object (0x7efe17b336c0) using this function.\n",
      "A new object of type <class 'langchain.chains.combine_documents.map_reduce.MapReduceDocumentsChain'> at 0x7efe1eb7c4c0 is calling an instrumented method <function BaseCombineDocumentsChain._call at 0x7efe81164a60>. The path of this call may be incorrect.\n",
      "Guessing path of new object is app.combine_documents_chain based on other object (0x7efe17b30940) using this function.\n",
      "A new object of type <class 'langchain.chains.llm.LLMChain'> at 0x7efe1eb7eac0 is calling an instrumented method <function LLMChain._call at 0x7efe54ee7d00>. The path of this call may be incorrect.\n",
      "Guessing path of new object is app.combine_documents_chain.llm_chain based on other object (0x7efe17b31a80) using this function.\n"
     ]
    },
    {
     "name": "stdout",
     "output_type": "stream",
     "text": [
      "✅ added record record_hash_bcfd59b546125174cd2ac4f069297f1a\n",
      "✅ feedback result Answer Relevance DONE feedback_result_hash_3f1306112842904e10bd63f384f3b913\n",
      "✅ feedback result Groundedness DONE feedback_result_hash_b04b365e2756d7119251531f39af33ec\n",
      "✅ feedback result Context Relevance DONE feedback_result_hash_ffaf1eb75404138b37ed1a81c0cd0359\n"
     ]
    },
    {
     "name": "stderr",
     "output_type": "stream",
     "text": [
      "A new object of type <class 'langchain.chains.retrieval_qa.base.RetrievalQA'> at 0x7efe1eb7fb40 is calling an instrumented method <function BaseRetrievalQA._call at 0x7efe46264c10>. The path of this call may be incorrect.\n",
      "Guessing path of new object is app based on other object (0x7efe17b336c0) using this function.\n",
      "A new object of type <class 'langchain.chains.combine_documents.map_reduce.MapReduceDocumentsChain'> at 0x7efe1eb7c4c0 is calling an instrumented method <function BaseCombineDocumentsChain._call at 0x7efe81164a60>. The path of this call may be incorrect.\n",
      "Guessing path of new object is app.combine_documents_chain based on other object (0x7efe17b30940) using this function.\n",
      "A new object of type <class 'langchain.chains.llm.LLMChain'> at 0x7efe1eb7eac0 is calling an instrumented method <function LLMChain._call at 0x7efe54ee7d00>. The path of this call may be incorrect.\n",
      "Guessing path of new object is app.combine_documents_chain.llm_chain based on other object (0x7efe17b31a80) using this function.\n"
     ]
    },
    {
     "name": "stdout",
     "output_type": "stream",
     "text": [
      "✅ added record record_hash_98821abf72d51726962f74e3d6f353ae\n",
      "✅ feedback result Answer Relevance DONE feedback_result_hash_3b611dcf23d76393c72c00b2aa844cb2\n",
      "✅ feedback result Groundedness DONE feedback_result_hash_07af69383804fad09d227a111ff5a8a8\n",
      "✅ feedback result Context Relevance DONE feedback_result_hash_ddf4c17147851e3e3c6f140deaf75ff2\n"
     ]
    },
    {
     "name": "stderr",
     "output_type": "stream",
     "text": [
      "A new object of type <class 'langchain.chains.retrieval_qa.base.RetrievalQA'> at 0x7efe1eb7fb40 is calling an instrumented method <function BaseRetrievalQA._call at 0x7efe46264c10>. The path of this call may be incorrect.\n",
      "Guessing path of new object is app based on other object (0x7efe17b336c0) using this function.\n",
      "A new object of type <class 'langchain.chains.combine_documents.map_reduce.MapReduceDocumentsChain'> at 0x7efe1eb7c4c0 is calling an instrumented method <function BaseCombineDocumentsChain._call at 0x7efe81164a60>. The path of this call may be incorrect.\n",
      "Guessing path of new object is app.combine_documents_chain based on other object (0x7efe17b30940) using this function.\n",
      "A new object of type <class 'langchain.chains.llm.LLMChain'> at 0x7efe1eb7eac0 is calling an instrumented method <function LLMChain._call at 0x7efe54ee7d00>. The path of this call may be incorrect.\n",
      "Guessing path of new object is app.combine_documents_chain.llm_chain based on other object (0x7efe17b31a80) using this function.\n"
     ]
    },
    {
     "name": "stdout",
     "output_type": "stream",
     "text": [
      "✅ added record record_hash_45f453f804d883ad257df52729ae374f\n",
      "✅ feedback result Answer Relevance DONE feedback_result_hash_fa2c03ea2dab0f4b5bed5d337b2881e6\n",
      "✅ feedback result Groundedness DONE feedback_result_hash_affb6f7e1a6089e4a7e701001c2739bb\n",
      "✅ feedback result Context Relevance DONE feedback_result_hash_8c329773da9be25f2b9eabf7187c05cf\n"
     ]
    },
    {
     "name": "stderr",
     "output_type": "stream",
     "text": [
      "A new object of type <class 'langchain.chains.retrieval_qa.base.RetrievalQA'> at 0x7efe1eb7fb40 is calling an instrumented method <function BaseRetrievalQA._call at 0x7efe46264c10>. The path of this call may be incorrect.\n",
      "Guessing path of new object is app based on other object (0x7efe17b336c0) using this function.\n",
      "A new object of type <class 'langchain.chains.combine_documents.map_reduce.MapReduceDocumentsChain'> at 0x7efe1eb7c4c0 is calling an instrumented method <function BaseCombineDocumentsChain._call at 0x7efe81164a60>. The path of this call may be incorrect.\n",
      "Guessing path of new object is app.combine_documents_chain based on other object (0x7efe17b30940) using this function.\n",
      "A new object of type <class 'langchain.chains.llm.LLMChain'> at 0x7efe1eb7eac0 is calling an instrumented method <function LLMChain._call at 0x7efe54ee7d00>. The path of this call may be incorrect.\n",
      "Guessing path of new object is app.combine_documents_chain.llm_chain based on other object (0x7efe17b31a80) using this function.\n"
     ]
    },
    {
     "name": "stdout",
     "output_type": "stream",
     "text": [
      "✅ added record record_hash_b289a6c045b94e7d60032cd01e20c570\n",
      "✅ feedback result Answer Relevance DONE feedback_result_hash_3f5003c79fba904afb1bc93387f97a32\n",
      "✅ feedback result Context Relevance DONE feedback_result_hash_d4fc96fcd8582bb493a770e271e8e856\n",
      "✅ feedback result Groundedness DONE feedback_result_hash_616bbf84cd859a1b0a12ddde39775a93\n"
     ]
    },
    {
     "name": "stderr",
     "output_type": "stream",
     "text": [
      "A new object of type <class 'langchain.chains.retrieval_qa.base.RetrievalQA'> at 0x7efe1eb7fb40 is calling an instrumented method <function BaseRetrievalQA._call at 0x7efe46264c10>. The path of this call may be incorrect.\n",
      "Guessing path of new object is app based on other object (0x7efe17b336c0) using this function.\n",
      "A new object of type <class 'langchain.chains.combine_documents.map_reduce.MapReduceDocumentsChain'> at 0x7efe1eb7c4c0 is calling an instrumented method <function BaseCombineDocumentsChain._call at 0x7efe81164a60>. The path of this call may be incorrect.\n",
      "Guessing path of new object is app.combine_documents_chain based on other object (0x7efe17b30940) using this function.\n",
      "A new object of type <class 'langchain.chains.llm.LLMChain'> at 0x7efe1eb7eac0 is calling an instrumented method <function LLMChain._call at 0x7efe54ee7d00>. The path of this call may be incorrect.\n",
      "Guessing path of new object is app.combine_documents_chain.llm_chain based on other object (0x7efe17b31a80) using this function.\n"
     ]
    },
    {
     "name": "stdout",
     "output_type": "stream",
     "text": [
      "✅ added record record_hash_0a46e6ae4a2a08717d9d7088425f404c\n",
      "✅ feedback result Answer Relevance DONE feedback_result_hash_44ae8ca18489d728d4ad94bcf5ce991d\n",
      "✅ feedback result Groundedness DONE feedback_result_hash_438ebf4e4d5fade9419c34657187a38b\n",
      "✅ feedback result Context Relevance DONE feedback_result_hash_2f1e906e38fafbbcfdda4c98bcf9185a\n"
     ]
    },
    {
     "name": "stderr",
     "output_type": "stream",
     "text": [
      "A new object of type <class 'langchain.chains.retrieval_qa.base.RetrievalQA'> at 0x7efe1eb7fb40 is calling an instrumented method <function BaseRetrievalQA._call at 0x7efe46264c10>. The path of this call may be incorrect.\n",
      "Guessing path of new object is app based on other object (0x7efe17b336c0) using this function.\n",
      "A new object of type <class 'langchain.chains.combine_documents.map_reduce.MapReduceDocumentsChain'> at 0x7efe1eb7c4c0 is calling an instrumented method <function BaseCombineDocumentsChain._call at 0x7efe81164a60>. The path of this call may be incorrect.\n",
      "Guessing path of new object is app.combine_documents_chain based on other object (0x7efe17b30940) using this function.\n",
      "A new object of type <class 'langchain.chains.llm.LLMChain'> at 0x7efe1eb7eac0 is calling an instrumented method <function LLMChain._call at 0x7efe54ee7d00>. The path of this call may be incorrect.\n",
      "Guessing path of new object is app.combine_documents_chain.llm_chain based on other object (0x7efe17b31a80) using this function.\n"
     ]
    },
    {
     "name": "stdout",
     "output_type": "stream",
     "text": [
      "✅ added record record_hash_b0c1809b884605a2f30423798d25bcfb\n",
      "✅ feedback result Answer Relevance DONE feedback_result_hash_64350bf636987b80befc8e7fbf7574f7\n",
      "✅ feedback result Context Relevance DONE feedback_result_hash_bfc07a42797b1c5527d2312d2fddfb67\n",
      "✅ feedback result Groundedness DONE feedback_result_hash_c229de804bfe4e57e67611514e670d1a\n"
     ]
    },
    {
     "name": "stderr",
     "output_type": "stream",
     "text": [
      "A new object of type <class 'langchain.chains.retrieval_qa.base.RetrievalQA'> at 0x7efe1eb7fb40 is calling an instrumented method <function BaseRetrievalQA._call at 0x7efe46264c10>. The path of this call may be incorrect.\n",
      "Guessing path of new object is app based on other object (0x7efe17b336c0) using this function.\n",
      "A new object of type <class 'langchain.chains.combine_documents.map_reduce.MapReduceDocumentsChain'> at 0x7efe1eb7c4c0 is calling an instrumented method <function BaseCombineDocumentsChain._call at 0x7efe81164a60>. The path of this call may be incorrect.\n",
      "Guessing path of new object is app.combine_documents_chain based on other object (0x7efe17b30940) using this function.\n",
      "A new object of type <class 'langchain.chains.llm.LLMChain'> at 0x7efe1eb7eac0 is calling an instrumented method <function LLMChain._call at 0x7efe54ee7d00>. The path of this call may be incorrect.\n",
      "Guessing path of new object is app.combine_documents_chain.llm_chain based on other object (0x7efe17b31a80) using this function.\n"
     ]
    },
    {
     "name": "stdout",
     "output_type": "stream",
     "text": [
      "✅ added record record_hash_b72124c50e7e42bbf1e750900ad56f3e\n",
      "✅ feedback result Answer Relevance DONE feedback_result_hash_406ecfe0d6e98df39f7a612e7aa5fee4\n",
      "✅ feedback result Groundedness DONE feedback_result_hash_eaf6208024f7f8c4041f80df6077a6f8\n",
      "✅ feedback result Context Relevance DONE feedback_result_hash_34faf37bbb2dff3f37adedcde2a0b29c\n"
     ]
    },
    {
     "name": "stderr",
     "output_type": "stream",
     "text": [
      "A new object of type <class 'langchain.chains.retrieval_qa.base.RetrievalQA'> at 0x7efe1eb7fb40 is calling an instrumented method <function BaseRetrievalQA._call at 0x7efe46264c10>. The path of this call may be incorrect.\n",
      "Guessing path of new object is app based on other object (0x7efe17b336c0) using this function.\n",
      "A new object of type <class 'langchain.chains.combine_documents.map_reduce.MapReduceDocumentsChain'> at 0x7efe1eb7c4c0 is calling an instrumented method <function BaseCombineDocumentsChain._call at 0x7efe81164a60>. The path of this call may be incorrect.\n",
      "Guessing path of new object is app.combine_documents_chain based on other object (0x7efe17b30940) using this function.\n",
      "A new object of type <class 'langchain.chains.llm.LLMChain'> at 0x7efe1eb7eac0 is calling an instrumented method <function LLMChain._call at 0x7efe54ee7d00>. The path of this call may be incorrect.\n",
      "Guessing path of new object is app.combine_documents_chain.llm_chain based on other object (0x7efe17b31a80) using this function.\n"
     ]
    },
    {
     "name": "stdout",
     "output_type": "stream",
     "text": [
      "✅ added record record_hash_2048b4120a3cbf9f582a4e38b24cd386\n",
      "✅ feedback result Answer Relevance DONE feedback_result_hash_6320a1d1699c79105ba3992493fbc9e2\n",
      "✅ feedback result Groundedness DONE feedback_result_hash_68dbe7291acda603ffc3db2719c38fc2\n",
      "✅ feedback result Context Relevance DONE feedback_result_hash_1e26e44485e8b463f163db5f231b9d79\n"
     ]
    },
    {
     "name": "stderr",
     "output_type": "stream",
     "text": [
      "A new object of type <class 'langchain.chains.retrieval_qa.base.RetrievalQA'> at 0x7efe1eb7fb40 is calling an instrumented method <function BaseRetrievalQA._call at 0x7efe46264c10>. The path of this call may be incorrect.\n",
      "Guessing path of new object is app based on other object (0x7efe17b336c0) using this function.\n",
      "A new object of type <class 'langchain.chains.combine_documents.map_reduce.MapReduceDocumentsChain'> at 0x7efe1eb7c4c0 is calling an instrumented method <function BaseCombineDocumentsChain._call at 0x7efe81164a60>. The path of this call may be incorrect.\n",
      "Guessing path of new object is app.combine_documents_chain based on other object (0x7efe17b30940) using this function.\n",
      "A new object of type <class 'langchain.chains.llm.LLMChain'> at 0x7efe1eb7eac0 is calling an instrumented method <function LLMChain._call at 0x7efe54ee7d00>. The path of this call may be incorrect.\n",
      "Guessing path of new object is app.combine_documents_chain.llm_chain based on other object (0x7efe17b31a80) using this function.\n"
     ]
    },
    {
     "name": "stdout",
     "output_type": "stream",
     "text": [
      "✅ added record record_hash_4fab8af594a0e213f7a95a609e2c8bea\n",
      "✅ feedback result Answer Relevance DONE feedback_result_hash_a51f687b462a35559341aba898f69057\n",
      "✅ feedback result Groundedness DONE feedback_result_hash_7dc9c806d58d9cc198c08e046af04708\n",
      "✅ feedback result Context Relevance DONE feedback_result_hash_e944b5df1da3bf171124e2690401be64\n"
     ]
    },
    {
     "name": "stderr",
     "output_type": "stream",
     "text": [
      "A new object of type <class 'langchain.chains.retrieval_qa.base.RetrievalQA'> at 0x7efe1eb7fb40 is calling an instrumented method <function BaseRetrievalQA._call at 0x7efe46264c10>. The path of this call may be incorrect.\n",
      "Guessing path of new object is app based on other object (0x7efe17b336c0) using this function.\n",
      "A new object of type <class 'langchain.chains.combine_documents.map_reduce.MapReduceDocumentsChain'> at 0x7efe1eb7c4c0 is calling an instrumented method <function BaseCombineDocumentsChain._call at 0x7efe81164a60>. The path of this call may be incorrect.\n",
      "Guessing path of new object is app.combine_documents_chain based on other object (0x7efe17b30940) using this function.\n",
      "A new object of type <class 'langchain.chains.llm.LLMChain'> at 0x7efe1eb7eac0 is calling an instrumented method <function LLMChain._call at 0x7efe54ee7d00>. The path of this call may be incorrect.\n",
      "Guessing path of new object is app.combine_documents_chain.llm_chain based on other object (0x7efe17b31a80) using this function.\n"
     ]
    },
    {
     "name": "stdout",
     "output_type": "stream",
     "text": [
      "✅ added record record_hash_31c39d93eb0250060f981b1b4c9c4d05\n",
      "✅ feedback result Answer Relevance DONE feedback_result_hash_dfd1469e60296ce04bae3b694659a625\n",
      "✅ feedback result Groundedness DONE feedback_result_hash_5c975bab89992c8d69a4386a6546a484\n",
      "✅ feedback result Context Relevance DONE feedback_result_hash_551db94e718057b0c471985624fa368c\n"
     ]
    },
    {
     "name": "stderr",
     "output_type": "stream",
     "text": [
      "A new object of type <class 'langchain.chains.retrieval_qa.base.RetrievalQA'> at 0x7efe1eb7fb40 is calling an instrumented method <function BaseRetrievalQA._call at 0x7efe46264c10>. The path of this call may be incorrect.\n",
      "Guessing path of new object is app based on other object (0x7efe17b336c0) using this function.\n",
      "A new object of type <class 'langchain.chains.combine_documents.map_reduce.MapReduceDocumentsChain'> at 0x7efe1eb7c4c0 is calling an instrumented method <function BaseCombineDocumentsChain._call at 0x7efe81164a60>. The path of this call may be incorrect.\n",
      "Guessing path of new object is app.combine_documents_chain based on other object (0x7efe17b30940) using this function.\n",
      "A new object of type <class 'langchain.chains.llm.LLMChain'> at 0x7efe1eb7eac0 is calling an instrumented method <function LLMChain._call at 0x7efe54ee7d00>. The path of this call may be incorrect.\n",
      "Guessing path of new object is app.combine_documents_chain.llm_chain based on other object (0x7efe17b31a80) using this function.\n"
     ]
    },
    {
     "name": "stdout",
     "output_type": "stream",
     "text": [
      "✅ added record record_hash_fd2a665c7250d75fd31341904076286c\n",
      "✅ feedback result Answer Relevance DONE feedback_result_hash_404a72103f510420d585e4fb39db2055\n",
      "✅ feedback result Context Relevance DONE feedback_result_hash_0e92751ce585df01c966ddd42cb48dfb\n",
      "✅ feedback result Groundedness DONE feedback_result_hash_67e293dfa7c309ad6fc698b4c4b94814\n"
     ]
    },
    {
     "name": "stderr",
     "output_type": "stream",
     "text": [
      "A new object of type <class 'langchain.chains.retrieval_qa.base.RetrievalQA'> at 0x7efe1eb7fb40 is calling an instrumented method <function BaseRetrievalQA._call at 0x7efe46264c10>. The path of this call may be incorrect.\n",
      "Guessing path of new object is app based on other object (0x7efe17b336c0) using this function.\n",
      "A new object of type <class 'langchain.chains.combine_documents.map_reduce.MapReduceDocumentsChain'> at 0x7efe1eb7c4c0 is calling an instrumented method <function BaseCombineDocumentsChain._call at 0x7efe81164a60>. The path of this call may be incorrect.\n",
      "Guessing path of new object is app.combine_documents_chain based on other object (0x7efe17b30940) using this function.\n",
      "A new object of type <class 'langchain.chains.llm.LLMChain'> at 0x7efe1eb7eac0 is calling an instrumented method <function LLMChain._call at 0x7efe54ee7d00>. The path of this call may be incorrect.\n",
      "Guessing path of new object is app.combine_documents_chain.llm_chain based on other object (0x7efe17b31a80) using this function.\n"
     ]
    },
    {
     "name": "stdout",
     "output_type": "stream",
     "text": [
      "✅ added record record_hash_ffb0beb16c6c8783943bd272a2d61b23\n",
      "✅ feedback result Answer Relevance DONE feedback_result_hash_6bb85c61996b18e5e7baf8ad04b5f246\n",
      "✅ feedback result Groundedness DONE feedback_result_hash_10b356d1f2d9040bb24eb6c66ca89922\n",
      "✅ feedback result Context Relevance DONE feedback_result_hash_efcb4aa7e2e1af88e1fb6db8dcd70655\n"
     ]
    },
    {
     "name": "stderr",
     "output_type": "stream",
     "text": [
      "A new object of type <class 'langchain.chains.retrieval_qa.base.RetrievalQA'> at 0x7efe1eb7fb40 is calling an instrumented method <function BaseRetrievalQA._call at 0x7efe46264c10>. The path of this call may be incorrect.\n",
      "Guessing path of new object is app based on other object (0x7efe17b336c0) using this function.\n",
      "A new object of type <class 'langchain.chains.combine_documents.map_reduce.MapReduceDocumentsChain'> at 0x7efe1eb7c4c0 is calling an instrumented method <function BaseCombineDocumentsChain._call at 0x7efe81164a60>. The path of this call may be incorrect.\n",
      "Guessing path of new object is app.combine_documents_chain based on other object (0x7efe17b30940) using this function.\n",
      "A new object of type <class 'langchain.chains.llm.LLMChain'> at 0x7efe1eb7eac0 is calling an instrumented method <function LLMChain._call at 0x7efe54ee7d00>. The path of this call may be incorrect.\n",
      "Guessing path of new object is app.combine_documents_chain.llm_chain based on other object (0x7efe17b31a80) using this function.\n"
     ]
    },
    {
     "name": "stdout",
     "output_type": "stream",
     "text": [
      "✅ added record record_hash_07f1e910eceac5001222da9f27b7f705\n",
      "✅ feedback result Answer Relevance DONE feedback_result_hash_db32d3133250b150ac8d793e18f7bf89\n",
      "✅ feedback result Groundedness DONE feedback_result_hash_590b43d0fe4ef2db86f2e942f23e1fb3\n",
      "✅ feedback result Context Relevance DONE feedback_result_hash_f74fa7a5a18584c4fa153d384b2ea1be\n"
     ]
    },
    {
     "name": "stderr",
     "output_type": "stream",
     "text": [
      "A new object of type <class 'langchain.chains.retrieval_qa.base.RetrievalQA'> at 0x7efe1eb7fb40 is calling an instrumented method <function BaseRetrievalQA._call at 0x7efe46264c10>. The path of this call may be incorrect.\n",
      "Guessing path of new object is app based on other object (0x7efe17b336c0) using this function.\n",
      "A new object of type <class 'langchain.chains.combine_documents.map_reduce.MapReduceDocumentsChain'> at 0x7efe1eb7c4c0 is calling an instrumented method <function BaseCombineDocumentsChain._call at 0x7efe81164a60>. The path of this call may be incorrect.\n",
      "Guessing path of new object is app.combine_documents_chain based on other object (0x7efe17b30940) using this function.\n",
      "A new object of type <class 'langchain.chains.llm.LLMChain'> at 0x7efe1eb7eac0 is calling an instrumented method <function LLMChain._call at 0x7efe54ee7d00>. The path of this call may be incorrect.\n",
      "Guessing path of new object is app.combine_documents_chain.llm_chain based on other object (0x7efe17b31a80) using this function.\n"
     ]
    },
    {
     "name": "stdout",
     "output_type": "stream",
     "text": [
      "✅ added record record_hash_4a511060c399634c85a74b45941e66dd\n",
      "✅ feedback result Answer Relevance DONE feedback_result_hash_e046b3c3e589ed55b2724339fe5ca831\n",
      "✅ feedback result Context Relevance DONE feedback_result_hash_b69973a1e3e57dc57d561587b5c78f17\n",
      "✅ feedback result Groundedness DONE feedback_result_hash_d6caac4be8be008f15994a964bf6dd87\n"
     ]
    },
    {
     "name": "stderr",
     "output_type": "stream",
     "text": [
      "A new object of type <class 'langchain.chains.retrieval_qa.base.RetrievalQA'> at 0x7efe1eb7fb40 is calling an instrumented method <function BaseRetrievalQA._call at 0x7efe46264c10>. The path of this call may be incorrect.\n",
      "Guessing path of new object is app based on other object (0x7efe17b336c0) using this function.\n",
      "A new object of type <class 'langchain.chains.combine_documents.map_reduce.MapReduceDocumentsChain'> at 0x7efe1eb7c4c0 is calling an instrumented method <function BaseCombineDocumentsChain._call at 0x7efe81164a60>. The path of this call may be incorrect.\n",
      "Guessing path of new object is app.combine_documents_chain based on other object (0x7efe17b30940) using this function.\n",
      "A new object of type <class 'langchain.chains.llm.LLMChain'> at 0x7efe1eb7eac0 is calling an instrumented method <function LLMChain._call at 0x7efe54ee7d00>. The path of this call may be incorrect.\n",
      "Guessing path of new object is app.combine_documents_chain.llm_chain based on other object (0x7efe17b31a80) using this function.\n"
     ]
    },
    {
     "name": "stdout",
     "output_type": "stream",
     "text": [
      "✅ added record record_hash_4bf2ff0da0ddc4af16f0cf828c93efd6\n",
      "✅ feedback result Answer Relevance DONE feedback_result_hash_78ab153f5197dee7778d837886a48cbf\n",
      "✅ feedback result Context Relevance DONE feedback_result_hash_53dce3623b6ad689042c190d55635fe6\n",
      "✅ feedback result Groundedness DONE feedback_result_hash_85a6ae73a48adf3de7c0ebb2c1c7e3b5\n"
     ]
    },
    {
     "name": "stderr",
     "output_type": "stream",
     "text": [
      "A new object of type <class 'langchain.chains.retrieval_qa.base.RetrievalQA'> at 0x7efe1eb7fb40 is calling an instrumented method <function BaseRetrievalQA._call at 0x7efe46264c10>. The path of this call may be incorrect.\n",
      "Guessing path of new object is app based on other object (0x7efe17b336c0) using this function.\n",
      "A new object of type <class 'langchain.chains.combine_documents.map_reduce.MapReduceDocumentsChain'> at 0x7efe1eb7c4c0 is calling an instrumented method <function BaseCombineDocumentsChain._call at 0x7efe81164a60>. The path of this call may be incorrect.\n",
      "Guessing path of new object is app.combine_documents_chain based on other object (0x7efe17b30940) using this function.\n",
      "A new object of type <class 'langchain.chains.llm.LLMChain'> at 0x7efe1eb7eac0 is calling an instrumented method <function LLMChain._call at 0x7efe54ee7d00>. The path of this call may be incorrect.\n",
      "Guessing path of new object is app.combine_documents_chain.llm_chain based on other object (0x7efe17b31a80) using this function.\n"
     ]
    },
    {
     "name": "stdout",
     "output_type": "stream",
     "text": [
      "✅ added record record_hash_03659e188349bd717a48a1f220f79155\n",
      "✅ feedback result Answer Relevance DONE feedback_result_hash_f3a1dcc6450531fa899446e932d809cd\n",
      "✅ feedback result Groundedness DONE feedback_result_hash_ff69f842740addc9e65aab6bdba6156b\n",
      "✅ feedback result Context Relevance DONE feedback_result_hash_51c240e162e25325837782ff83957896\n"
     ]
    },
    {
     "name": "stderr",
     "output_type": "stream",
     "text": [
      "A new object of type <class 'langchain.chains.retrieval_qa.base.RetrievalQA'> at 0x7efe1eb7fb40 is calling an instrumented method <function BaseRetrievalQA._call at 0x7efe46264c10>. The path of this call may be incorrect.\n",
      "Guessing path of new object is app based on other object (0x7efe17b336c0) using this function.\n",
      "A new object of type <class 'langchain.chains.combine_documents.map_reduce.MapReduceDocumentsChain'> at 0x7efe1eb7c4c0 is calling an instrumented method <function BaseCombineDocumentsChain._call at 0x7efe81164a60>. The path of this call may be incorrect.\n",
      "Guessing path of new object is app.combine_documents_chain based on other object (0x7efe17b30940) using this function.\n",
      "A new object of type <class 'langchain.chains.llm.LLMChain'> at 0x7efe1eb7eac0 is calling an instrumented method <function LLMChain._call at 0x7efe54ee7d00>. The path of this call may be incorrect.\n",
      "Guessing path of new object is app.combine_documents_chain.llm_chain based on other object (0x7efe17b31a80) using this function.\n"
     ]
    },
    {
     "name": "stdout",
     "output_type": "stream",
     "text": [
      "✅ added record record_hash_da5edbbf98e228bf90fadad9860cc10e\n",
      "✅ feedback result Answer Relevance DONE feedback_result_hash_d790d1a20b8e086ec64a6f12610dd64e\n",
      "✅ feedback result Context Relevance DONE feedback_result_hash_a9db09c4e4b4758745a3056717bb51da\n",
      "✅ feedback result Groundedness DONE feedback_result_hash_a0bbb7aafdb67d20afb928e6c0a86c71\n"
     ]
    },
    {
     "name": "stderr",
     "output_type": "stream",
     "text": [
      "A new object of type <class 'langchain.chains.retrieval_qa.base.RetrievalQA'> at 0x7efe1eb7fb40 is calling an instrumented method <function BaseRetrievalQA._call at 0x7efe46264c10>. The path of this call may be incorrect.\n",
      "Guessing path of new object is app based on other object (0x7efe17b336c0) using this function.\n",
      "A new object of type <class 'langchain.chains.combine_documents.map_reduce.MapReduceDocumentsChain'> at 0x7efe1eb7c4c0 is calling an instrumented method <function BaseCombineDocumentsChain._call at 0x7efe81164a60>. The path of this call may be incorrect.\n",
      "Guessing path of new object is app.combine_documents_chain based on other object (0x7efe17b30940) using this function.\n",
      "A new object of type <class 'langchain.chains.llm.LLMChain'> at 0x7efe1eb7eac0 is calling an instrumented method <function LLMChain._call at 0x7efe54ee7d00>. The path of this call may be incorrect.\n",
      "Guessing path of new object is app.combine_documents_chain.llm_chain based on other object (0x7efe17b31a80) using this function.\n"
     ]
    },
    {
     "name": "stdout",
     "output_type": "stream",
     "text": [
      "✅ added record record_hash_defe20f50a6e2f2a605d775dfae7d9a9\n",
      "✅ feedback result Answer Relevance DONE feedback_result_hash_e881d338b2617e49f4411c252024dccc\n",
      "✅ feedback result Groundedness DONE feedback_result_hash_ea4e682c284136a031c9b5c6094564e3\n",
      "✅ feedback result Context Relevance DONE feedback_result_hash_0df665c7db948dd766b1045f02a4f61c\n"
     ]
    },
    {
     "name": "stderr",
     "output_type": "stream",
     "text": [
      "A new object of type <class 'langchain.chains.retrieval_qa.base.RetrievalQA'> at 0x7efe1eb7fb40 is calling an instrumented method <function BaseRetrievalQA._call at 0x7efe46264c10>. The path of this call may be incorrect.\n",
      "Guessing path of new object is app based on other object (0x7efe17b336c0) using this function.\n",
      "A new object of type <class 'langchain.chains.combine_documents.map_reduce.MapReduceDocumentsChain'> at 0x7efe1eb7c4c0 is calling an instrumented method <function BaseCombineDocumentsChain._call at 0x7efe81164a60>. The path of this call may be incorrect.\n",
      "Guessing path of new object is app.combine_documents_chain based on other object (0x7efe17b30940) using this function.\n",
      "A new object of type <class 'langchain.chains.llm.LLMChain'> at 0x7efe1eb7eac0 is calling an instrumented method <function LLMChain._call at 0x7efe54ee7d00>. The path of this call may be incorrect.\n",
      "Guessing path of new object is app.combine_documents_chain.llm_chain based on other object (0x7efe17b31a80) using this function.\n"
     ]
    },
    {
     "name": "stdout",
     "output_type": "stream",
     "text": [
      "✅ added record record_hash_b244038d0e3cde7f0a7d919719608aed\n",
      "✅ feedback result Answer Relevance DONE feedback_result_hash_93d24b717c56737e86fa3edc052cc167\n",
      "✅ feedback result Groundedness DONE feedback_result_hash_4b538b7e7786e5df7823400cb6da583d\n",
      "✅ feedback result Context Relevance DONE feedback_result_hash_6005c5c0db1653901296daa9dc374609\n"
     ]
    }
   ],
   "source": [
    "import time\n",
    "\n",
    "with tru_recorder as recording:\n",
    "    for question in eval_questions:\n",
    "        response = qa({\"query\": question})\n",
    "        time.sleep(20)"
   ]
  },
  {
   "cell_type": "code",
   "execution_count": 38,
   "metadata": {},
   "outputs": [
    {
     "data": {
      "text/html": [
       "<div>\n",
       "<style scoped>\n",
       "    .dataframe tbody tr th:only-of-type {\n",
       "        vertical-align: middle;\n",
       "    }\n",
       "\n",
       "    .dataframe tbody tr th {\n",
       "        vertical-align: top;\n",
       "    }\n",
       "\n",
       "    .dataframe thead th {\n",
       "        text-align: right;\n",
       "    }\n",
       "</style>\n",
       "<table border=\"1\" class=\"dataframe\">\n",
       "  <thead>\n",
       "    <tr style=\"text-align: right;\">\n",
       "      <th></th>\n",
       "      <th>app_id</th>\n",
       "      <th>app_json</th>\n",
       "      <th>type</th>\n",
       "      <th>record_id</th>\n",
       "      <th>input</th>\n",
       "      <th>output</th>\n",
       "      <th>tags</th>\n",
       "      <th>record_json</th>\n",
       "      <th>cost_json</th>\n",
       "      <th>perf_json</th>\n",
       "      <th>ts</th>\n",
       "      <th>Answer Relevance</th>\n",
       "      <th>Groundedness</th>\n",
       "      <th>Context Relevance</th>\n",
       "      <th>Answer Relevance_calls</th>\n",
       "      <th>Groundedness_calls</th>\n",
       "      <th>Context Relevance_calls</th>\n",
       "      <th>latency</th>\n",
       "      <th>total_tokens</th>\n",
       "      <th>total_cost</th>\n",
       "    </tr>\n",
       "  </thead>\n",
       "  <tbody>\n",
       "    <tr>\n",
       "      <th>0</th>\n",
       "      <td>Retrieval Map-reduce Chain</td>\n",
       "      <td>{\"app_id\": \"Retrieval Map-reduce Chain\", \"tags...</td>\n",
       "      <td>RetrievalQA(langchain.chains.retrieval_qa.base)</td>\n",
       "      <td>record_hash_b31b88a9d5b2bce56449af711bc0a271</td>\n",
       "      <td>\"What is the company's total revenue, and how ...</td>\n",
       "      <td>\"The company's total revenue is not mentioned ...</td>\n",
       "      <td>-</td>\n",
       "      <td>{\"record_id\": \"record_hash_b31b88a9d5b2bce5644...</td>\n",
       "      <td>{\"n_requests\": 0, \"n_successful_requests\": 0, ...</td>\n",
       "      <td>{\"start_time\": \"2023-12-07T17:13:31.182183\", \"...</td>\n",
       "      <td>2023-12-07T17:13:39.382656</td>\n",
       "      <td>0.0</td>\n",
       "      <td>0.0</td>\n",
       "      <td>0.35</td>\n",
       "      <td>[{'args': {'prompt': 'What is the company's to...</td>\n",
       "      <td>[{'args': {'source': 'In addition to the long-...</td>\n",
       "      <td>[{'args': {'prompt': 'What is the company's to...</td>\n",
       "      <td>8</td>\n",
       "      <td>0</td>\n",
       "      <td>0.0</td>\n",
       "    </tr>\n",
       "    <tr>\n",
       "      <th>1</th>\n",
       "      <td>Retrieval Map-reduce Chain</td>\n",
       "      <td>{\"app_id\": \"Retrieval Map-reduce Chain\", \"tags...</td>\n",
       "      <td>RetrievalQA(langchain.chains.retrieval_qa.base)</td>\n",
       "      <td>record_hash_bcfd59b546125174cd2ac4f069297f1a</td>\n",
       "      <td>\"What are the main sources of revenue for the ...</td>\n",
       "      <td>\"The company does not mention the main sources...</td>\n",
       "      <td>-</td>\n",
       "      <td>{\"record_id\": \"record_hash_bcfd59b546125174cd2...</td>\n",
       "      <td>{\"n_requests\": 0, \"n_successful_requests\": 0, ...</td>\n",
       "      <td>{\"start_time\": \"2023-12-07T17:13:59.913206\", \"...</td>\n",
       "      <td>2023-12-07T17:14:03.341114</td>\n",
       "      <td>0.0</td>\n",
       "      <td>0.0</td>\n",
       "      <td>0.00</td>\n",
       "      <td>[{'args': {'prompt': 'What are the main source...</td>\n",
       "      <td>[{'args': {'source': 'Sources, Uses of Cash, a...</td>\n",
       "      <td>[{'args': {'prompt': 'What are the main source...</td>\n",
       "      <td>3</td>\n",
       "      <td>0</td>\n",
       "      <td>0.0</td>\n",
       "    </tr>\n",
       "    <tr>\n",
       "      <th>2</th>\n",
       "      <td>Retrieval Map-reduce Chain</td>\n",
       "      <td>{\"app_id\": \"Retrieval Map-reduce Chain\", \"tags...</td>\n",
       "      <td>RetrievalQA(langchain.chains.retrieval_qa.base)</td>\n",
       "      <td>record_hash_98821abf72d51726962f74e3d6f353ae</td>\n",
       "      <td>\"How has the company's profitability (net inco...</td>\n",
       "      <td>\"The company's profitability has trended upwar...</td>\n",
       "      <td>-</td>\n",
       "      <td>{\"record_id\": \"record_hash_98821abf72d51726962...</td>\n",
       "      <td>{\"n_requests\": 0, \"n_successful_requests\": 0, ...</td>\n",
       "      <td>{\"start_time\": \"2023-12-07T17:14:23.853809\", \"...</td>\n",
       "      <td>2023-12-07T17:14:27.596242</td>\n",
       "      <td>0.8</td>\n",
       "      <td>0.0</td>\n",
       "      <td>0.20</td>\n",
       "      <td>[{'args': {'prompt': 'How has the company's pr...</td>\n",
       "      <td>[{'args': {'source': 'ITEM 7. MANAGEMENT’S DIS...</td>\n",
       "      <td>[{'args': {'prompt': 'How has the company's pr...</td>\n",
       "      <td>3</td>\n",
       "      <td>0</td>\n",
       "      <td>0.0</td>\n",
       "    </tr>\n",
       "    <tr>\n",
       "      <th>3</th>\n",
       "      <td>Retrieval Map-reduce Chain</td>\n",
       "      <td>{\"app_id\": \"Retrieval Map-reduce Chain\", \"tags...</td>\n",
       "      <td>RetrievalQA(langchain.chains.retrieval_qa.base)</td>\n",
       "      <td>record_hash_45f453f804d883ad257df52729ae374f</td>\n",
       "      <td>\"What are the major components of the company'...</td>\n",
       "      <td>\"The major components of our cost of goods sol...</td>\n",
       "      <td>-</td>\n",
       "      <td>{\"record_id\": \"record_hash_45f453f804d883ad257...</td>\n",
       "      <td>{\"n_requests\": 0, \"n_successful_requests\": 0, ...</td>\n",
       "      <td>{\"start_time\": \"2023-12-07T17:14:48.152694\", \"...</td>\n",
       "      <td>2023-12-07T17:14:52.667579</td>\n",
       "      <td>1.0</td>\n",
       "      <td>0.0</td>\n",
       "      <td>0.00</td>\n",
       "      <td>[{'args': {'prompt': 'What are the major compo...</td>\n",
       "      <td>[{'args': {'source': 'The main components of o...</td>\n",
       "      <td>[{'args': {'prompt': 'What are the major compo...</td>\n",
       "      <td>4</td>\n",
       "      <td>0</td>\n",
       "      <td>0.0</td>\n",
       "    </tr>\n",
       "    <tr>\n",
       "      <th>4</th>\n",
       "      <td>Retrieval Map-reduce Chain</td>\n",
       "      <td>{\"app_id\": \"Retrieval Map-reduce Chain\", \"tags...</td>\n",
       "      <td>RetrievalQA(langchain.chains.retrieval_qa.base)</td>\n",
       "      <td>record_hash_b289a6c045b94e7d60032cd01e20c570</td>\n",
       "      <td>\"How have operating expenses (selling, general...</td>\n",
       "      <td>\"Operating expenses increased by $11.6 billion...</td>\n",
       "      <td>-</td>\n",
       "      <td>{\"record_id\": \"record_hash_b289a6c045b94e7d600...</td>\n",
       "      <td>{\"n_requests\": 0, \"n_successful_requests\": 0, ...</td>\n",
       "      <td>{\"start_time\": \"2023-12-07T17:15:13.378380\", \"...</td>\n",
       "      <td>2023-12-07T17:15:17.476971</td>\n",
       "      <td>0.9</td>\n",
       "      <td>0.8</td>\n",
       "      <td>0.85</td>\n",
       "      <td>[{'args': {'prompt': 'How have operating expen...</td>\n",
       "      <td>[{'args': {'source': 'Research and Development...</td>\n",
       "      <td>[{'args': {'prompt': 'How have operating expen...</td>\n",
       "      <td>4</td>\n",
       "      <td>0</td>\n",
       "      <td>0.0</td>\n",
       "    </tr>\n",
       "  </tbody>\n",
       "</table>\n",
       "</div>"
      ],
      "text/plain": [
       "                       app_id  \\\n",
       "0  Retrieval Map-reduce Chain   \n",
       "1  Retrieval Map-reduce Chain   \n",
       "2  Retrieval Map-reduce Chain   \n",
       "3  Retrieval Map-reduce Chain   \n",
       "4  Retrieval Map-reduce Chain   \n",
       "\n",
       "                                            app_json  \\\n",
       "0  {\"app_id\": \"Retrieval Map-reduce Chain\", \"tags...   \n",
       "1  {\"app_id\": \"Retrieval Map-reduce Chain\", \"tags...   \n",
       "2  {\"app_id\": \"Retrieval Map-reduce Chain\", \"tags...   \n",
       "3  {\"app_id\": \"Retrieval Map-reduce Chain\", \"tags...   \n",
       "4  {\"app_id\": \"Retrieval Map-reduce Chain\", \"tags...   \n",
       "\n",
       "                                              type  \\\n",
       "0  RetrievalQA(langchain.chains.retrieval_qa.base)   \n",
       "1  RetrievalQA(langchain.chains.retrieval_qa.base)   \n",
       "2  RetrievalQA(langchain.chains.retrieval_qa.base)   \n",
       "3  RetrievalQA(langchain.chains.retrieval_qa.base)   \n",
       "4  RetrievalQA(langchain.chains.retrieval_qa.base)   \n",
       "\n",
       "                                      record_id  \\\n",
       "0  record_hash_b31b88a9d5b2bce56449af711bc0a271   \n",
       "1  record_hash_bcfd59b546125174cd2ac4f069297f1a   \n",
       "2  record_hash_98821abf72d51726962f74e3d6f353ae   \n",
       "3  record_hash_45f453f804d883ad257df52729ae374f   \n",
       "4  record_hash_b289a6c045b94e7d60032cd01e20c570   \n",
       "\n",
       "                                               input  \\\n",
       "0  \"What is the company's total revenue, and how ...   \n",
       "1  \"What are the main sources of revenue for the ...   \n",
       "2  \"How has the company's profitability (net inco...   \n",
       "3  \"What are the major components of the company'...   \n",
       "4  \"How have operating expenses (selling, general...   \n",
       "\n",
       "                                              output tags  \\\n",
       "0  \"The company's total revenue is not mentioned ...    -   \n",
       "1  \"The company does not mention the main sources...    -   \n",
       "2  \"The company's profitability has trended upwar...    -   \n",
       "3  \"The major components of our cost of goods sol...    -   \n",
       "4  \"Operating expenses increased by $11.6 billion...    -   \n",
       "\n",
       "                                         record_json  \\\n",
       "0  {\"record_id\": \"record_hash_b31b88a9d5b2bce5644...   \n",
       "1  {\"record_id\": \"record_hash_bcfd59b546125174cd2...   \n",
       "2  {\"record_id\": \"record_hash_98821abf72d51726962...   \n",
       "3  {\"record_id\": \"record_hash_45f453f804d883ad257...   \n",
       "4  {\"record_id\": \"record_hash_b289a6c045b94e7d600...   \n",
       "\n",
       "                                           cost_json  \\\n",
       "0  {\"n_requests\": 0, \"n_successful_requests\": 0, ...   \n",
       "1  {\"n_requests\": 0, \"n_successful_requests\": 0, ...   \n",
       "2  {\"n_requests\": 0, \"n_successful_requests\": 0, ...   \n",
       "3  {\"n_requests\": 0, \"n_successful_requests\": 0, ...   \n",
       "4  {\"n_requests\": 0, \"n_successful_requests\": 0, ...   \n",
       "\n",
       "                                           perf_json  \\\n",
       "0  {\"start_time\": \"2023-12-07T17:13:31.182183\", \"...   \n",
       "1  {\"start_time\": \"2023-12-07T17:13:59.913206\", \"...   \n",
       "2  {\"start_time\": \"2023-12-07T17:14:23.853809\", \"...   \n",
       "3  {\"start_time\": \"2023-12-07T17:14:48.152694\", \"...   \n",
       "4  {\"start_time\": \"2023-12-07T17:15:13.378380\", \"...   \n",
       "\n",
       "                           ts  Answer Relevance  Groundedness  \\\n",
       "0  2023-12-07T17:13:39.382656               0.0           0.0   \n",
       "1  2023-12-07T17:14:03.341114               0.0           0.0   \n",
       "2  2023-12-07T17:14:27.596242               0.8           0.0   \n",
       "3  2023-12-07T17:14:52.667579               1.0           0.0   \n",
       "4  2023-12-07T17:15:17.476971               0.9           0.8   \n",
       "\n",
       "   Context Relevance                             Answer Relevance_calls  \\\n",
       "0               0.35  [{'args': {'prompt': 'What is the company's to...   \n",
       "1               0.00  [{'args': {'prompt': 'What are the main source...   \n",
       "2               0.20  [{'args': {'prompt': 'How has the company's pr...   \n",
       "3               0.00  [{'args': {'prompt': 'What are the major compo...   \n",
       "4               0.85  [{'args': {'prompt': 'How have operating expen...   \n",
       "\n",
       "                                  Groundedness_calls  \\\n",
       "0  [{'args': {'source': 'In addition to the long-...   \n",
       "1  [{'args': {'source': 'Sources, Uses of Cash, a...   \n",
       "2  [{'args': {'source': 'ITEM 7. MANAGEMENT’S DIS...   \n",
       "3  [{'args': {'source': 'The main components of o...   \n",
       "4  [{'args': {'source': 'Research and Development...   \n",
       "\n",
       "                             Context Relevance_calls  latency  total_tokens  \\\n",
       "0  [{'args': {'prompt': 'What is the company's to...        8             0   \n",
       "1  [{'args': {'prompt': 'What are the main source...        3             0   \n",
       "2  [{'args': {'prompt': 'How has the company's pr...        3             0   \n",
       "3  [{'args': {'prompt': 'What are the major compo...        4             0   \n",
       "4  [{'args': {'prompt': 'How have operating expen...        4             0   \n",
       "\n",
       "   total_cost  \n",
       "0         0.0  \n",
       "1         0.0  \n",
       "2         0.0  \n",
       "3         0.0  \n",
       "4         0.0  "
      ]
     },
     "execution_count": 38,
     "metadata": {},
     "output_type": "execute_result"
    }
   ],
   "source": [
    "records, feedback = tru.get_records_and_feedback(app_ids=[app_id])\n",
    "\n",
    "records.head()"
   ]
  },
  {
   "cell_type": "markdown",
   "metadata": {},
   "source": [
    "## QA Refine Chain"
   ]
  },
  {
   "cell_type": "code",
   "execution_count": 40,
   "metadata": {},
   "outputs": [],
   "source": [
    "from langchain.chains import RetrievalQA\n",
    "\n",
    "chain_type = \"refine\"\n",
    "\n",
    "# Uses LLM to synthesize results from the search index.\n",
    "# We use Vertex PaLM Text API for LLM\n",
    "qa = RetrievalQA.from_chain_type(\n",
    "    llm=llm, \n",
    "    chain_type=chain_type, \n",
    "    retriever=retriever, \n",
    "    return_source_documents=True\n",
    ")"
   ]
  },
  {
   "cell_type": "code",
   "execution_count": 41,
   "metadata": {},
   "outputs": [
    {
     "name": "stdout",
     "output_type": "stream",
     "text": [
      "✅ added app Retrieval Refine Chain\n",
      "✅ added feedback definition feedback_definition_hash_9db3c5dbfc9dfd237016008d518bf9c7\n",
      "✅ added feedback definition feedback_definition_hash_c54a29c9b195a2705ba418ad8dd3fdff\n",
      "✅ added feedback definition feedback_definition_hash_6d5cf3e928090fd959e958f8bbdb68a9\n"
     ]
    }
   ],
   "source": [
    "app_id=f'Retrieval {text_format(chain_type)} Chain'\n",
    "\n",
    "tru_recorder = TruChain(\n",
    "    qa,\n",
    "    app_id=app_id,\n",
    "    feedbacks=[qa_relevance, groundedness, qs_relevance]\n",
    ")"
   ]
  },
  {
   "cell_type": "code",
   "execution_count": 42,
   "metadata": {},
   "outputs": [
    {
     "name": "stderr",
     "output_type": "stream",
     "text": [
      "A new object of type <class 'langchain.chains.retrieval_qa.base.RetrievalQA'> at 0x7efe173eca80 is calling an instrumented method <function Chain.__call__ at 0x7efe54ee6f80>. The path of this call may be incorrect.\n",
      "Guessing path of new object is app based on other object (0x7efe17b336c0) using this function.\n",
      "A new object of type <class 'langchain.chains.retrieval_qa.base.RetrievalQA'> at 0x7efe173eca80 is calling an instrumented method <function BaseRetrievalQA._call at 0x7efe46264c10>. The path of this call may be incorrect.\n",
      "Guessing path of new object is app based on other object (0x7efe17b336c0) using this function.\n",
      "A new object of type <class 'langchain.schema.vectorstore.VectorStoreRetriever'> at 0x7efe1724a480 is calling an instrumented method <function VectorStoreRetriever._get_relevant_documents at 0x7efe900d75b0>. The path of this call may be incorrect.\n",
      "Guessing path of new object is app.retriever based on other object (0x7efe17b30f80) using this function.\n",
      "A new object of type <class 'langchain.chains.combine_documents.refine.RefineDocumentsChain'> at 0x7efe1e428b00 is calling an instrumented method <function Chain.__call__ at 0x7efe54ee6f80>. The path of this call may be incorrect.\n",
      "Guessing path of new object is app based on other object (0x7efe17b336c0) using this function.\n",
      "A new object of type <class 'langchain.chains.combine_documents.refine.RefineDocumentsChain'> at 0x7efe1e428b00 is calling an instrumented method <function BaseCombineDocumentsChain._call at 0x7efe81164a60>. The path of this call may be incorrect.\n",
      "Guessing path of new object is app.combine_documents_chain based on other object (0x7efe17b30940) using this function.\n",
      "A new object of type <class 'langchain.chains.llm.LLMChain'> at 0x7efe1724a600 is calling an instrumented method <function Chain.__call__ at 0x7efe54ee6f80>. The path of this call may be incorrect.\n",
      "Guessing path of new object is app based on other object (0x7efe17b336c0) using this function.\n",
      "A new object of type <class 'langchain.chains.llm.LLMChain'> at 0x7efe1724a600 is calling an instrumented method <function LLMChain._call at 0x7efe54ee7d00>. The path of this call may be incorrect.\n",
      "Guessing path of new object is app.combine_documents_chain.llm_chain based on other object (0x7efe17b31a80) using this function.\n",
      "A new object of type <class 'langchain.chains.llm.LLMChain'> at 0x7efe1724a340 is calling an instrumented method <function Chain.__call__ at 0x7efe54ee6f80>. The path of this call may be incorrect.\n",
      "Guessing path of new object is app based on other object (0x7efe17b336c0) using this function.\n",
      "A new object of type <class 'langchain.chains.llm.LLMChain'> at 0x7efe1724a340 is calling an instrumented method <function LLMChain._call at 0x7efe54ee7d00>. The path of this call may be incorrect.\n",
      "Guessing path of new object is app.combine_documents_chain.llm_chain based on other object (0x7efe17b31a80) using this function.\n"
     ]
    },
    {
     "name": "stdout",
     "output_type": "stream",
     "text": [
      "✅ added record record_hash_7089a26b8d01da26f7c0e106d8dffcaa\n",
      "✅ feedback result Answer Relevance DONE feedback_result_hash_c7fbf76ac0dd475470669076bf210f46\n",
      "✅ feedback result Groundedness DONE feedback_result_hash_c3caaaab093c16a7bb4951f9ff26fbb3\n",
      "✅ feedback result Context Relevance DONE feedback_result_hash_1b4913af1efbd336bae343e3f78dfe8f\n"
     ]
    },
    {
     "name": "stderr",
     "output_type": "stream",
     "text": [
      "A new object of type <class 'langchain.chains.retrieval_qa.base.RetrievalQA'> at 0x7efe173eca80 is calling an instrumented method <function BaseRetrievalQA._call at 0x7efe46264c10>. The path of this call may be incorrect.\n",
      "Guessing path of new object is app based on other object (0x7efe17b336c0) using this function.\n",
      "A new object of type <class 'langchain.chains.combine_documents.refine.RefineDocumentsChain'> at 0x7efe1e428b00 is calling an instrumented method <function BaseCombineDocumentsChain._call at 0x7efe81164a60>. The path of this call may be incorrect.\n",
      "Guessing path of new object is app.combine_documents_chain based on other object (0x7efe17b30940) using this function.\n",
      "A new object of type <class 'langchain.chains.llm.LLMChain'> at 0x7efe1724a600 is calling an instrumented method <function LLMChain._call at 0x7efe54ee7d00>. The path of this call may be incorrect.\n",
      "Guessing path of new object is app.combine_documents_chain.llm_chain based on other object (0x7efe17b31a80) using this function.\n",
      "A new object of type <class 'langchain.chains.llm.LLMChain'> at 0x7efe1724a340 is calling an instrumented method <function LLMChain._call at 0x7efe54ee7d00>. The path of this call may be incorrect.\n",
      "Guessing path of new object is app.combine_documents_chain.llm_chain based on other object (0x7efe17b31a80) using this function.\n"
     ]
    },
    {
     "name": "stdout",
     "output_type": "stream",
     "text": [
      "✅ added record record_hash_400cfb03adb768b9820013654cfb423f\n",
      "✅ feedback result Answer Relevance DONE feedback_result_hash_53cf007978709f6971a4740504d1531d\n",
      "✅ feedback result Context Relevance DONE feedback_result_hash_7b0ba4786ea3f840ccc466eeca889a79\n",
      "✅ feedback result Groundedness DONE feedback_result_hash_f87186d066686e0b905fc4374eae798e\n"
     ]
    },
    {
     "name": "stderr",
     "output_type": "stream",
     "text": [
      "A new object of type <class 'langchain.chains.retrieval_qa.base.RetrievalQA'> at 0x7efe173eca80 is calling an instrumented method <function BaseRetrievalQA._call at 0x7efe46264c10>. The path of this call may be incorrect.\n",
      "Guessing path of new object is app based on other object (0x7efe17b336c0) using this function.\n",
      "A new object of type <class 'langchain.chains.combine_documents.refine.RefineDocumentsChain'> at 0x7efe1e428b00 is calling an instrumented method <function BaseCombineDocumentsChain._call at 0x7efe81164a60>. The path of this call may be incorrect.\n",
      "Guessing path of new object is app.combine_documents_chain based on other object (0x7efe17b30940) using this function.\n",
      "A new object of type <class 'langchain.chains.llm.LLMChain'> at 0x7efe1724a600 is calling an instrumented method <function LLMChain._call at 0x7efe54ee7d00>. The path of this call may be incorrect.\n",
      "Guessing path of new object is app.combine_documents_chain.llm_chain based on other object (0x7efe17b31a80) using this function.\n",
      "A new object of type <class 'langchain.chains.llm.LLMChain'> at 0x7efe1724a340 is calling an instrumented method <function LLMChain._call at 0x7efe54ee7d00>. The path of this call may be incorrect.\n",
      "Guessing path of new object is app.combine_documents_chain.llm_chain based on other object (0x7efe17b31a80) using this function.\n"
     ]
    },
    {
     "name": "stdout",
     "output_type": "stream",
     "text": [
      "✅ added record record_hash_21e215b059e863212760e3c5622e28de\n",
      "✅ feedback result Answer Relevance DONE feedback_result_hash_4343b627ef4e8ffbf41ca1c42b5fdd54\n",
      "✅ feedback result Groundedness DONE feedback_result_hash_e2aa661195f0eb8dfb06a46d5d7fbc59\n",
      "✅ feedback result Context Relevance DONE feedback_result_hash_00428d8ef7b08fb0082e575a59d4bfa4\n"
     ]
    },
    {
     "name": "stderr",
     "output_type": "stream",
     "text": [
      "A new object of type <class 'langchain.chains.retrieval_qa.base.RetrievalQA'> at 0x7efe173eca80 is calling an instrumented method <function BaseRetrievalQA._call at 0x7efe46264c10>. The path of this call may be incorrect.\n",
      "Guessing path of new object is app based on other object (0x7efe17b336c0) using this function.\n",
      "A new object of type <class 'langchain.chains.combine_documents.refine.RefineDocumentsChain'> at 0x7efe1e428b00 is calling an instrumented method <function BaseCombineDocumentsChain._call at 0x7efe81164a60>. The path of this call may be incorrect.\n",
      "Guessing path of new object is app.combine_documents_chain based on other object (0x7efe17b30940) using this function.\n",
      "A new object of type <class 'langchain.chains.llm.LLMChain'> at 0x7efe1724a600 is calling an instrumented method <function LLMChain._call at 0x7efe54ee7d00>. The path of this call may be incorrect.\n",
      "Guessing path of new object is app.combine_documents_chain.llm_chain based on other object (0x7efe17b31a80) using this function.\n",
      "A new object of type <class 'langchain.chains.llm.LLMChain'> at 0x7efe1724a340 is calling an instrumented method <function LLMChain._call at 0x7efe54ee7d00>. The path of this call may be incorrect.\n",
      "Guessing path of new object is app.combine_documents_chain.llm_chain based on other object (0x7efe17b31a80) using this function.\n"
     ]
    },
    {
     "name": "stdout",
     "output_type": "stream",
     "text": [
      "✅ added record record_hash_8ee20aeeb5a96ab3cf24fc35a8472c01\n",
      "✅ feedback result Answer Relevance DONE feedback_result_hash_1bc7352c1c40df13b8d4c5b808f6332d\n",
      "✅ feedback result Groundedness DONE feedback_result_hash_99979fc83858ec6b13af843ad4d7e6d8\n",
      "✅ feedback result Context Relevance DONE feedback_result_hash_d3c125dfc799f6fc4ee385583d1e0e8f\n"
     ]
    },
    {
     "name": "stderr",
     "output_type": "stream",
     "text": [
      "A new object of type <class 'langchain.chains.retrieval_qa.base.RetrievalQA'> at 0x7efe173eca80 is calling an instrumented method <function BaseRetrievalQA._call at 0x7efe46264c10>. The path of this call may be incorrect.\n",
      "Guessing path of new object is app based on other object (0x7efe17b336c0) using this function.\n",
      "A new object of type <class 'langchain.chains.combine_documents.refine.RefineDocumentsChain'> at 0x7efe1e428b00 is calling an instrumented method <function BaseCombineDocumentsChain._call at 0x7efe81164a60>. The path of this call may be incorrect.\n",
      "Guessing path of new object is app.combine_documents_chain based on other object (0x7efe17b30940) using this function.\n",
      "A new object of type <class 'langchain.chains.llm.LLMChain'> at 0x7efe1724a600 is calling an instrumented method <function LLMChain._call at 0x7efe54ee7d00>. The path of this call may be incorrect.\n",
      "Guessing path of new object is app.combine_documents_chain.llm_chain based on other object (0x7efe17b31a80) using this function.\n",
      "A new object of type <class 'langchain.chains.llm.LLMChain'> at 0x7efe1724a340 is calling an instrumented method <function LLMChain._call at 0x7efe54ee7d00>. The path of this call may be incorrect.\n",
      "Guessing path of new object is app.combine_documents_chain.llm_chain based on other object (0x7efe17b31a80) using this function.\n"
     ]
    },
    {
     "name": "stdout",
     "output_type": "stream",
     "text": [
      "✅ added record record_hash_9f45e6bf94595a7eab875c759d32a3a9\n",
      "✅ feedback result Answer Relevance DONE feedback_result_hash_e1f227254e60a77ff51987929c15cc93\n",
      "✅ feedback result Context Relevance DONE feedback_result_hash_e88caab1d07cfd5809152f0ec2ffe1b0\n",
      "✅ feedback result Groundedness DONE feedback_result_hash_b5cd8f40f28de056dce6b35b44d4828c\n"
     ]
    },
    {
     "name": "stderr",
     "output_type": "stream",
     "text": [
      "A new object of type <class 'langchain.chains.retrieval_qa.base.RetrievalQA'> at 0x7efe173eca80 is calling an instrumented method <function BaseRetrievalQA._call at 0x7efe46264c10>. The path of this call may be incorrect.\n",
      "Guessing path of new object is app based on other object (0x7efe17b336c0) using this function.\n",
      "A new object of type <class 'langchain.chains.combine_documents.refine.RefineDocumentsChain'> at 0x7efe1e428b00 is calling an instrumented method <function BaseCombineDocumentsChain._call at 0x7efe81164a60>. The path of this call may be incorrect.\n",
      "Guessing path of new object is app.combine_documents_chain based on other object (0x7efe17b30940) using this function.\n",
      "A new object of type <class 'langchain.chains.llm.LLMChain'> at 0x7efe1724a600 is calling an instrumented method <function LLMChain._call at 0x7efe54ee7d00>. The path of this call may be incorrect.\n",
      "Guessing path of new object is app.combine_documents_chain.llm_chain based on other object (0x7efe17b31a80) using this function.\n",
      "A new object of type <class 'langchain.chains.llm.LLMChain'> at 0x7efe1724a340 is calling an instrumented method <function LLMChain._call at 0x7efe54ee7d00>. The path of this call may be incorrect.\n",
      "Guessing path of new object is app.combine_documents_chain.llm_chain based on other object (0x7efe17b31a80) using this function.\n"
     ]
    },
    {
     "name": "stdout",
     "output_type": "stream",
     "text": [
      "✅ added record record_hash_7615d981536123ac9e890099fd07f20b\n",
      "✅ feedback result Answer Relevance DONE feedback_result_hash_2630a175dffc506873e4c3359f5da016\n",
      "✅ feedback result Context Relevance DONE feedback_result_hash_a8989e196ccf5257ce23f93cc8c5712f\n",
      "✅ feedback result Groundedness DONE feedback_result_hash_26b15aba7632d25560aade9188d0dbcf\n"
     ]
    },
    {
     "name": "stderr",
     "output_type": "stream",
     "text": [
      "A new object of type <class 'langchain.chains.retrieval_qa.base.RetrievalQA'> at 0x7efe173eca80 is calling an instrumented method <function BaseRetrievalQA._call at 0x7efe46264c10>. The path of this call may be incorrect.\n",
      "Guessing path of new object is app based on other object (0x7efe17b336c0) using this function.\n",
      "A new object of type <class 'langchain.chains.combine_documents.refine.RefineDocumentsChain'> at 0x7efe1e428b00 is calling an instrumented method <function BaseCombineDocumentsChain._call at 0x7efe81164a60>. The path of this call may be incorrect.\n",
      "Guessing path of new object is app.combine_documents_chain based on other object (0x7efe17b30940) using this function.\n",
      "A new object of type <class 'langchain.chains.llm.LLMChain'> at 0x7efe1724a600 is calling an instrumented method <function LLMChain._call at 0x7efe54ee7d00>. The path of this call may be incorrect.\n",
      "Guessing path of new object is app.combine_documents_chain.llm_chain based on other object (0x7efe17b31a80) using this function.\n",
      "A new object of type <class 'langchain.chains.llm.LLMChain'> at 0x7efe1724a340 is calling an instrumented method <function LLMChain._call at 0x7efe54ee7d00>. The path of this call may be incorrect.\n",
      "Guessing path of new object is app.combine_documents_chain.llm_chain based on other object (0x7efe17b31a80) using this function.\n"
     ]
    },
    {
     "name": "stdout",
     "output_type": "stream",
     "text": [
      "✅ added record record_hash_e620827789bae51f20a2a69ddd1b306f\n",
      "✅ feedback result Answer Relevance DONE feedback_result_hash_68c8b694cc62394b01ddd1f201eabce0\n",
      "✅ feedback result Context Relevance DONE feedback_result_hash_f0a56001e4133ad3d857d678eb2b23af\n",
      "✅ feedback result Groundedness DONE feedback_result_hash_4ba058f1c5649ed51adb32750371eff8\n"
     ]
    },
    {
     "name": "stderr",
     "output_type": "stream",
     "text": [
      "A new object of type <class 'langchain.chains.retrieval_qa.base.RetrievalQA'> at 0x7efe173eca80 is calling an instrumented method <function BaseRetrievalQA._call at 0x7efe46264c10>. The path of this call may be incorrect.\n",
      "Guessing path of new object is app based on other object (0x7efe17b336c0) using this function.\n",
      "A new object of type <class 'langchain.chains.combine_documents.refine.RefineDocumentsChain'> at 0x7efe1e428b00 is calling an instrumented method <function BaseCombineDocumentsChain._call at 0x7efe81164a60>. The path of this call may be incorrect.\n",
      "Guessing path of new object is app.combine_documents_chain based on other object (0x7efe17b30940) using this function.\n",
      "A new object of type <class 'langchain.chains.llm.LLMChain'> at 0x7efe1724a600 is calling an instrumented method <function LLMChain._call at 0x7efe54ee7d00>. The path of this call may be incorrect.\n",
      "Guessing path of new object is app.combine_documents_chain.llm_chain based on other object (0x7efe17b31a80) using this function.\n",
      "A new object of type <class 'langchain.chains.llm.LLMChain'> at 0x7efe1724a340 is calling an instrumented method <function LLMChain._call at 0x7efe54ee7d00>. The path of this call may be incorrect.\n",
      "Guessing path of new object is app.combine_documents_chain.llm_chain based on other object (0x7efe17b31a80) using this function.\n"
     ]
    },
    {
     "name": "stdout",
     "output_type": "stream",
     "text": [
      "✅ added record record_hash_006b242e5c7d120cfae8ba94a7a1be80\n",
      "✅ feedback result Answer Relevance DONE feedback_result_hash_421fd13ec9818d07f3611fe37deb7bc5\n",
      "✅ feedback result Context Relevance DONE feedback_result_hash_bc885582447525bece255f7524d5404e\n",
      "✅ feedback result Groundedness DONE feedback_result_hash_f8c067c787ed95cca83dcaa458785487\n"
     ]
    },
    {
     "name": "stderr",
     "output_type": "stream",
     "text": [
      "A new object of type <class 'langchain.chains.retrieval_qa.base.RetrievalQA'> at 0x7efe173eca80 is calling an instrumented method <function BaseRetrievalQA._call at 0x7efe46264c10>. The path of this call may be incorrect.\n",
      "Guessing path of new object is app based on other object (0x7efe17b336c0) using this function.\n",
      "A new object of type <class 'langchain.chains.combine_documents.refine.RefineDocumentsChain'> at 0x7efe1e428b00 is calling an instrumented method <function BaseCombineDocumentsChain._call at 0x7efe81164a60>. The path of this call may be incorrect.\n",
      "Guessing path of new object is app.combine_documents_chain based on other object (0x7efe17b30940) using this function.\n",
      "A new object of type <class 'langchain.chains.llm.LLMChain'> at 0x7efe1724a600 is calling an instrumented method <function LLMChain._call at 0x7efe54ee7d00>. The path of this call may be incorrect.\n",
      "Guessing path of new object is app.combine_documents_chain.llm_chain based on other object (0x7efe17b31a80) using this function.\n",
      "A new object of type <class 'langchain.chains.llm.LLMChain'> at 0x7efe1724a340 is calling an instrumented method <function LLMChain._call at 0x7efe54ee7d00>. The path of this call may be incorrect.\n",
      "Guessing path of new object is app.combine_documents_chain.llm_chain based on other object (0x7efe17b31a80) using this function.\n"
     ]
    },
    {
     "name": "stdout",
     "output_type": "stream",
     "text": [
      "✅ added record record_hash_684ac6c1a4fb6a7147db46ee1f3046c2\n",
      "✅ feedback result Answer Relevance DONE feedback_result_hash_5a4c04b14fd5d86f49942806565dd609\n",
      "✅ feedback result Context Relevance DONE feedback_result_hash_5ee9c906d0fb4df9d78b8218cb5a13c3\n",
      "✅ feedback result Groundedness DONE feedback_result_hash_3506073899ed2b07a640e0b2531c9287\n"
     ]
    },
    {
     "name": "stderr",
     "output_type": "stream",
     "text": [
      "A new object of type <class 'langchain.chains.retrieval_qa.base.RetrievalQA'> at 0x7efe173eca80 is calling an instrumented method <function BaseRetrievalQA._call at 0x7efe46264c10>. The path of this call may be incorrect.\n",
      "Guessing path of new object is app based on other object (0x7efe17b336c0) using this function.\n",
      "A new object of type <class 'langchain.chains.combine_documents.refine.RefineDocumentsChain'> at 0x7efe1e428b00 is calling an instrumented method <function BaseCombineDocumentsChain._call at 0x7efe81164a60>. The path of this call may be incorrect.\n",
      "Guessing path of new object is app.combine_documents_chain based on other object (0x7efe17b30940) using this function.\n",
      "A new object of type <class 'langchain.chains.llm.LLMChain'> at 0x7efe1724a600 is calling an instrumented method <function LLMChain._call at 0x7efe54ee7d00>. The path of this call may be incorrect.\n",
      "Guessing path of new object is app.combine_documents_chain.llm_chain based on other object (0x7efe17b31a80) using this function.\n",
      "A new object of type <class 'langchain.chains.llm.LLMChain'> at 0x7efe1724a340 is calling an instrumented method <function LLMChain._call at 0x7efe54ee7d00>. The path of this call may be incorrect.\n",
      "Guessing path of new object is app.combine_documents_chain.llm_chain based on other object (0x7efe17b31a80) using this function.\n"
     ]
    },
    {
     "name": "stdout",
     "output_type": "stream",
     "text": [
      "✅ added record record_hash_008f35c05c429537268e3c3598ef0b1e\n",
      "✅ feedback result Answer Relevance DONE feedback_result_hash_5355f75132eb701719dcfc86cb34f09c\n",
      "✅ feedback result Context Relevance DONE feedback_result_hash_460183ac18675003f8199363cf44f03c\n",
      "✅ feedback result Groundedness DONE feedback_result_hash_16bba09384c79482724aafc9842d03bd\n"
     ]
    },
    {
     "name": "stderr",
     "output_type": "stream",
     "text": [
      "A new object of type <class 'langchain.chains.retrieval_qa.base.RetrievalQA'> at 0x7efe173eca80 is calling an instrumented method <function BaseRetrievalQA._call at 0x7efe46264c10>. The path of this call may be incorrect.\n",
      "Guessing path of new object is app based on other object (0x7efe17b336c0) using this function.\n",
      "A new object of type <class 'langchain.chains.combine_documents.refine.RefineDocumentsChain'> at 0x7efe1e428b00 is calling an instrumented method <function BaseCombineDocumentsChain._call at 0x7efe81164a60>. The path of this call may be incorrect.\n",
      "Guessing path of new object is app.combine_documents_chain based on other object (0x7efe17b30940) using this function.\n",
      "A new object of type <class 'langchain.chains.llm.LLMChain'> at 0x7efe1724a600 is calling an instrumented method <function LLMChain._call at 0x7efe54ee7d00>. The path of this call may be incorrect.\n",
      "Guessing path of new object is app.combine_documents_chain.llm_chain based on other object (0x7efe17b31a80) using this function.\n",
      "A new object of type <class 'langchain.chains.llm.LLMChain'> at 0x7efe1724a340 is calling an instrumented method <function LLMChain._call at 0x7efe54ee7d00>. The path of this call may be incorrect.\n",
      "Guessing path of new object is app.combine_documents_chain.llm_chain based on other object (0x7efe17b31a80) using this function.\n"
     ]
    },
    {
     "name": "stdout",
     "output_type": "stream",
     "text": [
      "✅ added record record_hash_18a832f214da2be990236accfb0226a6\n",
      "✅ feedback result Answer Relevance DONE feedback_result_hash_fb58b76c5fe745d5083c6f4cb3e661a0\n",
      "✅ feedback result Context Relevance DONE feedback_result_hash_75b10b704c92431bba1be8e9ac324797\n",
      "✅ feedback result Groundedness DONE feedback_result_hash_15dc60d440f8b29013db306534f2e333\n"
     ]
    },
    {
     "name": "stderr",
     "output_type": "stream",
     "text": [
      "A new object of type <class 'langchain.chains.retrieval_qa.base.RetrievalQA'> at 0x7efe173eca80 is calling an instrumented method <function BaseRetrievalQA._call at 0x7efe46264c10>. The path of this call may be incorrect.\n",
      "Guessing path of new object is app based on other object (0x7efe17b336c0) using this function.\n",
      "A new object of type <class 'langchain.chains.combine_documents.refine.RefineDocumentsChain'> at 0x7efe1e428b00 is calling an instrumented method <function BaseCombineDocumentsChain._call at 0x7efe81164a60>. The path of this call may be incorrect.\n",
      "Guessing path of new object is app.combine_documents_chain based on other object (0x7efe17b30940) using this function.\n",
      "A new object of type <class 'langchain.chains.llm.LLMChain'> at 0x7efe1724a600 is calling an instrumented method <function LLMChain._call at 0x7efe54ee7d00>. The path of this call may be incorrect.\n",
      "Guessing path of new object is app.combine_documents_chain.llm_chain based on other object (0x7efe17b31a80) using this function.\n",
      "A new object of type <class 'langchain.chains.llm.LLMChain'> at 0x7efe1724a340 is calling an instrumented method <function LLMChain._call at 0x7efe54ee7d00>. The path of this call may be incorrect.\n",
      "Guessing path of new object is app.combine_documents_chain.llm_chain based on other object (0x7efe17b31a80) using this function.\n"
     ]
    },
    {
     "name": "stdout",
     "output_type": "stream",
     "text": [
      "✅ added record record_hash_9e1fa531d46f950d6c4237f63ce2f162\n",
      "✅ feedback result Answer Relevance DONE feedback_result_hash_2a345ca61e8c40ec5cc699174b7143e6\n",
      "✅ feedback result Context Relevance DONE feedback_result_hash_4ca7debaf7ceef2252874dad9338947d\n",
      "✅ feedback result Groundedness DONE feedback_result_hash_74fb51b44f0d22e188634e5d02a16416\n"
     ]
    },
    {
     "name": "stderr",
     "output_type": "stream",
     "text": [
      "A new object of type <class 'langchain.chains.retrieval_qa.base.RetrievalQA'> at 0x7efe173eca80 is calling an instrumented method <function BaseRetrievalQA._call at 0x7efe46264c10>. The path of this call may be incorrect.\n",
      "Guessing path of new object is app based on other object (0x7efe17b336c0) using this function.\n",
      "A new object of type <class 'langchain.chains.combine_documents.refine.RefineDocumentsChain'> at 0x7efe1e428b00 is calling an instrumented method <function BaseCombineDocumentsChain._call at 0x7efe81164a60>. The path of this call may be incorrect.\n",
      "Guessing path of new object is app.combine_documents_chain based on other object (0x7efe17b30940) using this function.\n",
      "A new object of type <class 'langchain.chains.llm.LLMChain'> at 0x7efe1724a600 is calling an instrumented method <function LLMChain._call at 0x7efe54ee7d00>. The path of this call may be incorrect.\n",
      "Guessing path of new object is app.combine_documents_chain.llm_chain based on other object (0x7efe17b31a80) using this function.\n",
      "A new object of type <class 'langchain.chains.llm.LLMChain'> at 0x7efe1724a340 is calling an instrumented method <function LLMChain._call at 0x7efe54ee7d00>. The path of this call may be incorrect.\n",
      "Guessing path of new object is app.combine_documents_chain.llm_chain based on other object (0x7efe17b31a80) using this function.\n"
     ]
    },
    {
     "name": "stdout",
     "output_type": "stream",
     "text": [
      "✅ added record record_hash_cb81a224a8e2f83ea0aebd0d187881f6\n",
      "✅ feedback result Answer Relevance DONE feedback_result_hash_ea6d544c566f060b4eca95996eaf7c0b\n",
      "✅ feedback result Context Relevance DONE feedback_result_hash_83bd76db4df019748e60a3cb78eb89d3\n",
      "✅ feedback result Groundedness DONE feedback_result_hash_72c107d5077d349a258ee5e9f10ce1ab\n"
     ]
    },
    {
     "name": "stderr",
     "output_type": "stream",
     "text": [
      "A new object of type <class 'langchain.chains.retrieval_qa.base.RetrievalQA'> at 0x7efe173eca80 is calling an instrumented method <function BaseRetrievalQA._call at 0x7efe46264c10>. The path of this call may be incorrect.\n",
      "Guessing path of new object is app based on other object (0x7efe17b336c0) using this function.\n",
      "A new object of type <class 'langchain.chains.combine_documents.refine.RefineDocumentsChain'> at 0x7efe1e428b00 is calling an instrumented method <function BaseCombineDocumentsChain._call at 0x7efe81164a60>. The path of this call may be incorrect.\n",
      "Guessing path of new object is app.combine_documents_chain based on other object (0x7efe17b30940) using this function.\n",
      "A new object of type <class 'langchain.chains.llm.LLMChain'> at 0x7efe1724a600 is calling an instrumented method <function LLMChain._call at 0x7efe54ee7d00>. The path of this call may be incorrect.\n",
      "Guessing path of new object is app.combine_documents_chain.llm_chain based on other object (0x7efe17b31a80) using this function.\n",
      "A new object of type <class 'langchain.chains.llm.LLMChain'> at 0x7efe1724a340 is calling an instrumented method <function LLMChain._call at 0x7efe54ee7d00>. The path of this call may be incorrect.\n",
      "Guessing path of new object is app.combine_documents_chain.llm_chain based on other object (0x7efe17b31a80) using this function.\n"
     ]
    },
    {
     "name": "stdout",
     "output_type": "stream",
     "text": [
      "✅ added record record_hash_fdb7751152ea3eb4515bdae1cd3eb38b\n",
      "✅ feedback result Answer Relevance DONE feedback_result_hash_4b61d598bb4562d16e7fed8da44ff5d1\n",
      "✅ feedback result Context Relevance DONE feedback_result_hash_0121c3e9da783c051903dde1579726bb\n",
      "✅ feedback result Groundedness DONE feedback_result_hash_6aaf2f947255ccb5cebf66e11c0d1d21\n"
     ]
    },
    {
     "name": "stderr",
     "output_type": "stream",
     "text": [
      "A new object of type <class 'langchain.chains.retrieval_qa.base.RetrievalQA'> at 0x7efe173eca80 is calling an instrumented method <function BaseRetrievalQA._call at 0x7efe46264c10>. The path of this call may be incorrect.\n",
      "Guessing path of new object is app based on other object (0x7efe17b336c0) using this function.\n",
      "A new object of type <class 'langchain.chains.combine_documents.refine.RefineDocumentsChain'> at 0x7efe1e428b00 is calling an instrumented method <function BaseCombineDocumentsChain._call at 0x7efe81164a60>. The path of this call may be incorrect.\n",
      "Guessing path of new object is app.combine_documents_chain based on other object (0x7efe17b30940) using this function.\n",
      "A new object of type <class 'langchain.chains.llm.LLMChain'> at 0x7efe1724a600 is calling an instrumented method <function LLMChain._call at 0x7efe54ee7d00>. The path of this call may be incorrect.\n",
      "Guessing path of new object is app.combine_documents_chain.llm_chain based on other object (0x7efe17b31a80) using this function.\n",
      "A new object of type <class 'langchain.chains.llm.LLMChain'> at 0x7efe1724a340 is calling an instrumented method <function LLMChain._call at 0x7efe54ee7d00>. The path of this call may be incorrect.\n",
      "Guessing path of new object is app.combine_documents_chain.llm_chain based on other object (0x7efe17b31a80) using this function.\n"
     ]
    },
    {
     "name": "stdout",
     "output_type": "stream",
     "text": [
      "✅ added record record_hash_d062bc35f8ec3e17f8c9de7ffcc47248\n",
      "✅ feedback result Answer Relevance DONE feedback_result_hash_2f30e90ae3625f601deb0ace5987a94d\n",
      "✅ feedback result Context Relevance DONE feedback_result_hash_8b0a5ab0fc201c71d22bb34e1cead9ad\n",
      "✅ feedback result Groundedness DONE feedback_result_hash_34cfd8945bf9031d217366bb53a33243\n"
     ]
    },
    {
     "name": "stderr",
     "output_type": "stream",
     "text": [
      "A new object of type <class 'langchain.chains.retrieval_qa.base.RetrievalQA'> at 0x7efe173eca80 is calling an instrumented method <function BaseRetrievalQA._call at 0x7efe46264c10>. The path of this call may be incorrect.\n",
      "Guessing path of new object is app based on other object (0x7efe17b336c0) using this function.\n",
      "A new object of type <class 'langchain.chains.combine_documents.refine.RefineDocumentsChain'> at 0x7efe1e428b00 is calling an instrumented method <function BaseCombineDocumentsChain._call at 0x7efe81164a60>. The path of this call may be incorrect.\n",
      "Guessing path of new object is app.combine_documents_chain based on other object (0x7efe17b30940) using this function.\n",
      "A new object of type <class 'langchain.chains.llm.LLMChain'> at 0x7efe1724a600 is calling an instrumented method <function LLMChain._call at 0x7efe54ee7d00>. The path of this call may be incorrect.\n",
      "Guessing path of new object is app.combine_documents_chain.llm_chain based on other object (0x7efe17b31a80) using this function.\n",
      "A new object of type <class 'langchain.chains.llm.LLMChain'> at 0x7efe1724a340 is calling an instrumented method <function LLMChain._call at 0x7efe54ee7d00>. The path of this call may be incorrect.\n",
      "Guessing path of new object is app.combine_documents_chain.llm_chain based on other object (0x7efe17b31a80) using this function.\n"
     ]
    },
    {
     "name": "stdout",
     "output_type": "stream",
     "text": [
      "✅ added record record_hash_73b723e582a308e889722d3fdb12d8e7\n",
      "✅ feedback result Answer Relevance DONE feedback_result_hash_0276fa85768ee86a2dde089bb9d7e000\n",
      "✅ feedback result Context Relevance DONE feedback_result_hash_d76607c9169c46a2b1b1db2be21bde08\n",
      "✅ feedback result Groundedness DONE feedback_result_hash_b7c723a8fe09b437fb59bb87727acfaa\n"
     ]
    },
    {
     "name": "stderr",
     "output_type": "stream",
     "text": [
      "A new object of type <class 'langchain.chains.retrieval_qa.base.RetrievalQA'> at 0x7efe173eca80 is calling an instrumented method <function BaseRetrievalQA._call at 0x7efe46264c10>. The path of this call may be incorrect.\n",
      "Guessing path of new object is app based on other object (0x7efe17b336c0) using this function.\n",
      "A new object of type <class 'langchain.chains.combine_documents.refine.RefineDocumentsChain'> at 0x7efe1e428b00 is calling an instrumented method <function BaseCombineDocumentsChain._call at 0x7efe81164a60>. The path of this call may be incorrect.\n",
      "Guessing path of new object is app.combine_documents_chain based on other object (0x7efe17b30940) using this function.\n",
      "A new object of type <class 'langchain.chains.llm.LLMChain'> at 0x7efe1724a600 is calling an instrumented method <function LLMChain._call at 0x7efe54ee7d00>. The path of this call may be incorrect.\n",
      "Guessing path of new object is app.combine_documents_chain.llm_chain based on other object (0x7efe17b31a80) using this function.\n",
      "A new object of type <class 'langchain.chains.llm.LLMChain'> at 0x7efe1724a340 is calling an instrumented method <function LLMChain._call at 0x7efe54ee7d00>. The path of this call may be incorrect.\n",
      "Guessing path of new object is app.combine_documents_chain.llm_chain based on other object (0x7efe17b31a80) using this function.\n"
     ]
    },
    {
     "name": "stdout",
     "output_type": "stream",
     "text": [
      "✅ added record record_hash_3dba4ada39d826000aa42fc6ca042e94\n",
      "✅ feedback result Answer Relevance DONE feedback_result_hash_e215961b977fe0f478b0c683982cbb42\n",
      "✅ feedback result Context Relevance DONE feedback_result_hash_842036b59a33c856b18f4172dc6c2da8\n"
     ]
    },
    {
     "name": "stderr",
     "output_type": "stream",
     "text": [
      "A new object of type <class 'langchain.chains.retrieval_qa.base.RetrievalQA'> at 0x7efe173eca80 is calling an instrumented method <function BaseRetrievalQA._call at 0x7efe46264c10>. The path of this call may be incorrect.\n",
      "Guessing path of new object is app based on other object (0x7efe17b336c0) using this function.\n"
     ]
    },
    {
     "name": "stdout",
     "output_type": "stream",
     "text": [
      "✅ feedback result Groundedness DONE feedback_result_hash_823a83e58ee28acf8d8ebfb781083441\n"
     ]
    },
    {
     "name": "stderr",
     "output_type": "stream",
     "text": [
      "A new object of type <class 'langchain.chains.combine_documents.refine.RefineDocumentsChain'> at 0x7efe1e428b00 is calling an instrumented method <function BaseCombineDocumentsChain._call at 0x7efe81164a60>. The path of this call may be incorrect.\n",
      "Guessing path of new object is app.combine_documents_chain based on other object (0x7efe17b30940) using this function.\n",
      "A new object of type <class 'langchain.chains.llm.LLMChain'> at 0x7efe1724a600 is calling an instrumented method <function LLMChain._call at 0x7efe54ee7d00>. The path of this call may be incorrect.\n",
      "Guessing path of new object is app.combine_documents_chain.llm_chain based on other object (0x7efe17b31a80) using this function.\n",
      "A new object of type <class 'langchain.chains.llm.LLMChain'> at 0x7efe1724a340 is calling an instrumented method <function LLMChain._call at 0x7efe54ee7d00>. The path of this call may be incorrect.\n",
      "Guessing path of new object is app.combine_documents_chain.llm_chain based on other object (0x7efe17b31a80) using this function.\n"
     ]
    },
    {
     "name": "stdout",
     "output_type": "stream",
     "text": [
      "✅ added record record_hash_4c27af4f66e678eb5be13cf486e9734e\n",
      "✅ feedback result Answer Relevance DONE feedback_result_hash_5f0cc029219320bea627e500ba0dcddc\n",
      "✅ feedback result Context Relevance DONE feedback_result_hash_0fe3a8ca7fe01229249f4eb145523a0e\n",
      "✅ feedback result Groundedness DONE feedback_result_hash_dcf88cfc1c96e304df912d6168f152d0\n"
     ]
    },
    {
     "name": "stderr",
     "output_type": "stream",
     "text": [
      "A new object of type <class 'langchain.chains.retrieval_qa.base.RetrievalQA'> at 0x7efe173eca80 is calling an instrumented method <function BaseRetrievalQA._call at 0x7efe46264c10>. The path of this call may be incorrect.\n",
      "Guessing path of new object is app based on other object (0x7efe17b336c0) using this function.\n",
      "A new object of type <class 'langchain.chains.combine_documents.refine.RefineDocumentsChain'> at 0x7efe1e428b00 is calling an instrumented method <function BaseCombineDocumentsChain._call at 0x7efe81164a60>. The path of this call may be incorrect.\n",
      "Guessing path of new object is app.combine_documents_chain based on other object (0x7efe17b30940) using this function.\n",
      "A new object of type <class 'langchain.chains.llm.LLMChain'> at 0x7efe1724a600 is calling an instrumented method <function LLMChain._call at 0x7efe54ee7d00>. The path of this call may be incorrect.\n",
      "Guessing path of new object is app.combine_documents_chain.llm_chain based on other object (0x7efe17b31a80) using this function.\n",
      "A new object of type <class 'langchain.chains.llm.LLMChain'> at 0x7efe1724a340 is calling an instrumented method <function LLMChain._call at 0x7efe54ee7d00>. The path of this call may be incorrect.\n",
      "Guessing path of new object is app.combine_documents_chain.llm_chain based on other object (0x7efe17b31a80) using this function.\n"
     ]
    },
    {
     "name": "stdout",
     "output_type": "stream",
     "text": [
      "✅ added record record_hash_9805403445f24a24f4c7e8c1c4df817b\n",
      "✅ feedback result Answer Relevance DONE feedback_result_hash_30f08a18a1142b330e51dfbf323fbf3b\n",
      "✅ feedback result Context Relevance DONE feedback_result_hash_8b0813afd72976894f0b2cd763a86e19\n",
      "✅ feedback result Groundedness DONE feedback_result_hash_2f52c8291f40c9de344faad7400ed273\n"
     ]
    },
    {
     "name": "stderr",
     "output_type": "stream",
     "text": [
      "A new object of type <class 'langchain.chains.retrieval_qa.base.RetrievalQA'> at 0x7efe173eca80 is calling an instrumented method <function BaseRetrievalQA._call at 0x7efe46264c10>. The path of this call may be incorrect.\n",
      "Guessing path of new object is app based on other object (0x7efe17b336c0) using this function.\n",
      "A new object of type <class 'langchain.chains.combine_documents.refine.RefineDocumentsChain'> at 0x7efe1e428b00 is calling an instrumented method <function BaseCombineDocumentsChain._call at 0x7efe81164a60>. The path of this call may be incorrect.\n",
      "Guessing path of new object is app.combine_documents_chain based on other object (0x7efe17b30940) using this function.\n",
      "A new object of type <class 'langchain.chains.llm.LLMChain'> at 0x7efe1724a600 is calling an instrumented method <function LLMChain._call at 0x7efe54ee7d00>. The path of this call may be incorrect.\n",
      "Guessing path of new object is app.combine_documents_chain.llm_chain based on other object (0x7efe17b31a80) using this function.\n",
      "A new object of type <class 'langchain.chains.llm.LLMChain'> at 0x7efe1724a340 is calling an instrumented method <function LLMChain._call at 0x7efe54ee7d00>. The path of this call may be incorrect.\n",
      "Guessing path of new object is app.combine_documents_chain.llm_chain based on other object (0x7efe17b31a80) using this function.\n"
     ]
    },
    {
     "name": "stdout",
     "output_type": "stream",
     "text": [
      "✅ added record record_hash_abae9432856cca97ff8c2430179d94b6\n",
      "✅ feedback result Answer Relevance DONE feedback_result_hash_ac587781328e3e322989435bc68199ce\n",
      "✅ feedback result Context Relevance DONE feedback_result_hash_eca32d54954e31571d359fa8f7974d62\n",
      "✅ feedback result Groundedness DONE feedback_result_hash_36398cc2fffb92a426dc32abeafe4f57\n"
     ]
    }
   ],
   "source": [
    "import time\n",
    "\n",
    "with tru_recorder as recording:\n",
    "    for question in eval_questions:\n",
    "        response = qa({\"query\": question})\n",
    "        time.sleep(20)"
   ]
  },
  {
   "cell_type": "code",
   "execution_count": 43,
   "metadata": {},
   "outputs": [
    {
     "data": {
      "text/html": [
       "<div>\n",
       "<style scoped>\n",
       "    .dataframe tbody tr th:only-of-type {\n",
       "        vertical-align: middle;\n",
       "    }\n",
       "\n",
       "    .dataframe tbody tr th {\n",
       "        vertical-align: top;\n",
       "    }\n",
       "\n",
       "    .dataframe thead th {\n",
       "        text-align: right;\n",
       "    }\n",
       "</style>\n",
       "<table border=\"1\" class=\"dataframe\">\n",
       "  <thead>\n",
       "    <tr style=\"text-align: right;\">\n",
       "      <th></th>\n",
       "      <th>app_id</th>\n",
       "      <th>app_json</th>\n",
       "      <th>type</th>\n",
       "      <th>record_id</th>\n",
       "      <th>input</th>\n",
       "      <th>output</th>\n",
       "      <th>tags</th>\n",
       "      <th>record_json</th>\n",
       "      <th>cost_json</th>\n",
       "      <th>perf_json</th>\n",
       "      <th>ts</th>\n",
       "      <th>Answer Relevance</th>\n",
       "      <th>Groundedness</th>\n",
       "      <th>Context Relevance</th>\n",
       "      <th>Answer Relevance_calls</th>\n",
       "      <th>Groundedness_calls</th>\n",
       "      <th>Context Relevance_calls</th>\n",
       "      <th>latency</th>\n",
       "      <th>total_tokens</th>\n",
       "      <th>total_cost</th>\n",
       "    </tr>\n",
       "  </thead>\n",
       "  <tbody>\n",
       "    <tr>\n",
       "      <th>0</th>\n",
       "      <td>Retrieval Refine Chain</td>\n",
       "      <td>{\"app_id\": \"Retrieval Refine Chain\", \"tags\": \"...</td>\n",
       "      <td>RetrievalQA(langchain.chains.retrieval_qa.base)</td>\n",
       "      <td>record_hash_7089a26b8d01da26f7c0e106d8dffcaa</td>\n",
       "      <td>\"What is the company's total revenue, and how ...</td>\n",
       "      <td>\"The company's total revenue is $136.8 billion...</td>\n",
       "      <td>-</td>\n",
       "      <td>{\"record_id\": \"record_hash_7089a26b8d01da26f7c...</td>\n",
       "      <td>{\"n_requests\": 0, \"n_successful_requests\": 0, ...</td>\n",
       "      <td>{\"start_time\": \"2023-12-07T17:23:34.688177\", \"...</td>\n",
       "      <td>2023-12-07T17:23:37.830302</td>\n",
       "      <td>1.0</td>\n",
       "      <td>0.0</td>\n",
       "      <td>0.35</td>\n",
       "      <td>[{'args': {'prompt': 'What is the company's to...</td>\n",
       "      <td>[{'args': {'source': 'In addition to the long-...</td>\n",
       "      <td>[{'args': {'prompt': 'What is the company's to...</td>\n",
       "      <td>3</td>\n",
       "      <td>0</td>\n",
       "      <td>0.0</td>\n",
       "    </tr>\n",
       "    <tr>\n",
       "      <th>1</th>\n",
       "      <td>Retrieval Refine Chain</td>\n",
       "      <td>{\"app_id\": \"Retrieval Refine Chain\", \"tags\": \"...</td>\n",
       "      <td>RetrievalQA(langchain.chains.retrieval_qa.base)</td>\n",
       "      <td>record_hash_400cfb03adb768b9820013654cfb423f</td>\n",
       "      <td>\"What are the main sources of revenue for the ...</td>\n",
       "      <td>\"The main sources of revenue for the company a...</td>\n",
       "      <td>-</td>\n",
       "      <td>{\"record_id\": \"record_hash_400cfb03adb768b9820...</td>\n",
       "      <td>{\"n_requests\": 0, \"n_successful_requests\": 0, ...</td>\n",
       "      <td>{\"start_time\": \"2023-12-07T17:23:58.420494\", \"...</td>\n",
       "      <td>2023-12-07T17:24:03.484548</td>\n",
       "      <td>0.9</td>\n",
       "      <td>1.0</td>\n",
       "      <td>0.00</td>\n",
       "      <td>[{'args': {'prompt': 'What are the main source...</td>\n",
       "      <td>[{'args': {'source': 'Sources, Uses of Cash, a...</td>\n",
       "      <td>[{'args': {'prompt': 'What are the main source...</td>\n",
       "      <td>5</td>\n",
       "      <td>0</td>\n",
       "      <td>0.0</td>\n",
       "    </tr>\n",
       "    <tr>\n",
       "      <th>2</th>\n",
       "      <td>Retrieval Refine Chain</td>\n",
       "      <td>{\"app_id\": \"Retrieval Refine Chain\", \"tags\": \"...</td>\n",
       "      <td>RetrievalQA(langchain.chains.retrieval_qa.base)</td>\n",
       "      <td>record_hash_21e215b059e863212760e3c5622e28de</td>\n",
       "      <td>\"How has the company's profitability (net inco...</td>\n",
       "      <td>\"The company's profitability has trended upwar...</td>\n",
       "      <td>-</td>\n",
       "      <td>{\"record_id\": \"record_hash_21e215b059e86321276...</td>\n",
       "      <td>{\"n_requests\": 0, \"n_successful_requests\": 0, ...</td>\n",
       "      <td>{\"start_time\": \"2023-12-07T17:24:24.090708\", \"...</td>\n",
       "      <td>2023-12-07T17:24:28.376944</td>\n",
       "      <td>1.0</td>\n",
       "      <td>0.0</td>\n",
       "      <td>0.20</td>\n",
       "      <td>[{'args': {'prompt': 'How has the company's pr...</td>\n",
       "      <td>[{'args': {'source': 'ITEM 7. MANAGEMENT’S DIS...</td>\n",
       "      <td>[{'args': {'prompt': 'How has the company's pr...</td>\n",
       "      <td>4</td>\n",
       "      <td>0</td>\n",
       "      <td>0.0</td>\n",
       "    </tr>\n",
       "    <tr>\n",
       "      <th>3</th>\n",
       "      <td>Retrieval Refine Chain</td>\n",
       "      <td>{\"app_id\": \"Retrieval Refine Chain\", \"tags\": \"...</td>\n",
       "      <td>RetrievalQA(langchain.chains.retrieval_qa.base)</td>\n",
       "      <td>record_hash_8ee20aeeb5a96ab3cf24fc35a8472c01</td>\n",
       "      <td>\"What are the major components of the company'...</td>\n",
       "      <td>\"The major components of the company's cost of...</td>\n",
       "      <td>-</td>\n",
       "      <td>{\"record_id\": \"record_hash_8ee20aeeb5a96ab3cf2...</td>\n",
       "      <td>{\"n_requests\": 0, \"n_successful_requests\": 0, ...</td>\n",
       "      <td>{\"start_time\": \"2023-12-07T17:24:48.954764\", \"...</td>\n",
       "      <td>2023-12-07T17:24:53.448979</td>\n",
       "      <td>0.8</td>\n",
       "      <td>0.0</td>\n",
       "      <td>0.00</td>\n",
       "      <td>[{'args': {'prompt': 'What are the major compo...</td>\n",
       "      <td>[{'args': {'source': 'The main components of o...</td>\n",
       "      <td>[{'args': {'prompt': 'What are the major compo...</td>\n",
       "      <td>4</td>\n",
       "      <td>0</td>\n",
       "      <td>0.0</td>\n",
       "    </tr>\n",
       "    <tr>\n",
       "      <th>4</th>\n",
       "      <td>Retrieval Refine Chain</td>\n",
       "      <td>{\"app_id\": \"Retrieval Refine Chain\", \"tags\": \"...</td>\n",
       "      <td>RetrievalQA(langchain.chains.retrieval_qa.base)</td>\n",
       "      <td>record_hash_9f45e6bf94595a7eab875c759d32a3a9</td>\n",
       "      <td>\"How have operating expenses (selling, general...</td>\n",
       "      <td>\"Operating expenses (selling, general and admi...</td>\n",
       "      <td>-</td>\n",
       "      <td>{\"record_id\": \"record_hash_9f45e6bf94595a7eab8...</td>\n",
       "      <td>{\"n_requests\": 0, \"n_successful_requests\": 0, ...</td>\n",
       "      <td>{\"start_time\": \"2023-12-07T17:25:13.991825\", \"...</td>\n",
       "      <td>2023-12-07T17:25:17.424905</td>\n",
       "      <td>1.0</td>\n",
       "      <td>0.5</td>\n",
       "      <td>0.90</td>\n",
       "      <td>[{'args': {'prompt': 'How have operating expen...</td>\n",
       "      <td>[{'args': {'source': 'Research and Development...</td>\n",
       "      <td>[{'args': {'prompt': 'How have operating expen...</td>\n",
       "      <td>3</td>\n",
       "      <td>0</td>\n",
       "      <td>0.0</td>\n",
       "    </tr>\n",
       "  </tbody>\n",
       "</table>\n",
       "</div>"
      ],
      "text/plain": [
       "                   app_id                                           app_json  \\\n",
       "0  Retrieval Refine Chain  {\"app_id\": \"Retrieval Refine Chain\", \"tags\": \"...   \n",
       "1  Retrieval Refine Chain  {\"app_id\": \"Retrieval Refine Chain\", \"tags\": \"...   \n",
       "2  Retrieval Refine Chain  {\"app_id\": \"Retrieval Refine Chain\", \"tags\": \"...   \n",
       "3  Retrieval Refine Chain  {\"app_id\": \"Retrieval Refine Chain\", \"tags\": \"...   \n",
       "4  Retrieval Refine Chain  {\"app_id\": \"Retrieval Refine Chain\", \"tags\": \"...   \n",
       "\n",
       "                                              type  \\\n",
       "0  RetrievalQA(langchain.chains.retrieval_qa.base)   \n",
       "1  RetrievalQA(langchain.chains.retrieval_qa.base)   \n",
       "2  RetrievalQA(langchain.chains.retrieval_qa.base)   \n",
       "3  RetrievalQA(langchain.chains.retrieval_qa.base)   \n",
       "4  RetrievalQA(langchain.chains.retrieval_qa.base)   \n",
       "\n",
       "                                      record_id  \\\n",
       "0  record_hash_7089a26b8d01da26f7c0e106d8dffcaa   \n",
       "1  record_hash_400cfb03adb768b9820013654cfb423f   \n",
       "2  record_hash_21e215b059e863212760e3c5622e28de   \n",
       "3  record_hash_8ee20aeeb5a96ab3cf24fc35a8472c01   \n",
       "4  record_hash_9f45e6bf94595a7eab875c759d32a3a9   \n",
       "\n",
       "                                               input  \\\n",
       "0  \"What is the company's total revenue, and how ...   \n",
       "1  \"What are the main sources of revenue for the ...   \n",
       "2  \"How has the company's profitability (net inco...   \n",
       "3  \"What are the major components of the company'...   \n",
       "4  \"How have operating expenses (selling, general...   \n",
       "\n",
       "                                              output tags  \\\n",
       "0  \"The company's total revenue is $136.8 billion...    -   \n",
       "1  \"The main sources of revenue for the company a...    -   \n",
       "2  \"The company's profitability has trended upwar...    -   \n",
       "3  \"The major components of the company's cost of...    -   \n",
       "4  \"Operating expenses (selling, general and admi...    -   \n",
       "\n",
       "                                         record_json  \\\n",
       "0  {\"record_id\": \"record_hash_7089a26b8d01da26f7c...   \n",
       "1  {\"record_id\": \"record_hash_400cfb03adb768b9820...   \n",
       "2  {\"record_id\": \"record_hash_21e215b059e86321276...   \n",
       "3  {\"record_id\": \"record_hash_8ee20aeeb5a96ab3cf2...   \n",
       "4  {\"record_id\": \"record_hash_9f45e6bf94595a7eab8...   \n",
       "\n",
       "                                           cost_json  \\\n",
       "0  {\"n_requests\": 0, \"n_successful_requests\": 0, ...   \n",
       "1  {\"n_requests\": 0, \"n_successful_requests\": 0, ...   \n",
       "2  {\"n_requests\": 0, \"n_successful_requests\": 0, ...   \n",
       "3  {\"n_requests\": 0, \"n_successful_requests\": 0, ...   \n",
       "4  {\"n_requests\": 0, \"n_successful_requests\": 0, ...   \n",
       "\n",
       "                                           perf_json  \\\n",
       "0  {\"start_time\": \"2023-12-07T17:23:34.688177\", \"...   \n",
       "1  {\"start_time\": \"2023-12-07T17:23:58.420494\", \"...   \n",
       "2  {\"start_time\": \"2023-12-07T17:24:24.090708\", \"...   \n",
       "3  {\"start_time\": \"2023-12-07T17:24:48.954764\", \"...   \n",
       "4  {\"start_time\": \"2023-12-07T17:25:13.991825\", \"...   \n",
       "\n",
       "                           ts  Answer Relevance  Groundedness  \\\n",
       "0  2023-12-07T17:23:37.830302               1.0           0.0   \n",
       "1  2023-12-07T17:24:03.484548               0.9           1.0   \n",
       "2  2023-12-07T17:24:28.376944               1.0           0.0   \n",
       "3  2023-12-07T17:24:53.448979               0.8           0.0   \n",
       "4  2023-12-07T17:25:17.424905               1.0           0.5   \n",
       "\n",
       "   Context Relevance                             Answer Relevance_calls  \\\n",
       "0               0.35  [{'args': {'prompt': 'What is the company's to...   \n",
       "1               0.00  [{'args': {'prompt': 'What are the main source...   \n",
       "2               0.20  [{'args': {'prompt': 'How has the company's pr...   \n",
       "3               0.00  [{'args': {'prompt': 'What are the major compo...   \n",
       "4               0.90  [{'args': {'prompt': 'How have operating expen...   \n",
       "\n",
       "                                  Groundedness_calls  \\\n",
       "0  [{'args': {'source': 'In addition to the long-...   \n",
       "1  [{'args': {'source': 'Sources, Uses of Cash, a...   \n",
       "2  [{'args': {'source': 'ITEM 7. MANAGEMENT’S DIS...   \n",
       "3  [{'args': {'source': 'The main components of o...   \n",
       "4  [{'args': {'source': 'Research and Development...   \n",
       "\n",
       "                             Context Relevance_calls  latency  total_tokens  \\\n",
       "0  [{'args': {'prompt': 'What is the company's to...        3             0   \n",
       "1  [{'args': {'prompt': 'What are the main source...        5             0   \n",
       "2  [{'args': {'prompt': 'How has the company's pr...        4             0   \n",
       "3  [{'args': {'prompt': 'What are the major compo...        4             0   \n",
       "4  [{'args': {'prompt': 'How have operating expen...        3             0   \n",
       "\n",
       "   total_cost  \n",
       "0         0.0  \n",
       "1         0.0  \n",
       "2         0.0  \n",
       "3         0.0  \n",
       "4         0.0  "
      ]
     },
     "execution_count": 43,
     "metadata": {},
     "output_type": "execute_result"
    }
   ],
   "source": [
    "records, feedback = tru.get_records_and_feedback(app_ids=[app_id])\n",
    "\n",
    "records.head()"
   ]
  },
  {
   "cell_type": "markdown",
   "metadata": {},
   "source": [
    "## QA Map-rerank Chain"
   ]
  },
  {
   "cell_type": "code",
   "execution_count": 45,
   "metadata": {},
   "outputs": [],
   "source": [
    "from langchain.chains import RetrievalQA\n",
    "\n",
    "chain_type = \"map_rerank\"\n",
    "\n",
    "# Uses LLM to synthesize results from the search index.\n",
    "# We use Vertex PaLM Text API for LLM\n",
    "qa = RetrievalQA.from_chain_type(\n",
    "    llm=llm, \n",
    "    chain_type=chain_type, \n",
    "    retriever=retriever, \n",
    "    return_source_documents=True\n",
    ")"
   ]
  },
  {
   "cell_type": "code",
   "execution_count": 46,
   "metadata": {},
   "outputs": [
    {
     "name": "stdout",
     "output_type": "stream",
     "text": [
      "✅ added app Retrieval Map-rerank Chain\n",
      "✅ added feedback definition feedback_definition_hash_9db3c5dbfc9dfd237016008d518bf9c7\n",
      "✅ added feedback definition feedback_definition_hash_c54a29c9b195a2705ba418ad8dd3fdff\n",
      "✅ added feedback definition feedback_definition_hash_6d5cf3e928090fd959e958f8bbdb68a9\n"
     ]
    }
   ],
   "source": [
    "app_id=f'Retrieval {text_format(chain_type)} Chain'\n",
    "\n",
    "tru_recorder = TruChain(\n",
    "    qa,\n",
    "    app_id=app_id,\n",
    "    feedbacks=[qa_relevance, groundedness, qs_relevance]\n",
    ")"
   ]
  },
  {
   "cell_type": "code",
   "execution_count": 51,
   "metadata": {},
   "outputs": [
    {
     "name": "stderr",
     "output_type": "stream",
     "text": [
      "A new object of type <class 'langchain.chains.retrieval_qa.base.RetrievalQA'> at 0x7efe17496600 is calling an instrumented method <function BaseRetrievalQA._call at 0x7efe46264c10>. The path of this call may be incorrect.\n",
      "Guessing path of new object is app based on other object (0x7efe17b336c0) using this function.\n",
      "A new object of type <class 'langchain.chains.combine_documents.map_rerank.MapRerankDocumentsChain'> at 0x7efe174954c0 is calling an instrumented method <function BaseCombineDocumentsChain._call at 0x7efe81164a60>. The path of this call may be incorrect.\n",
      "Guessing path of new object is app.combine_documents_chain based on other object (0x7efe17b30940) using this function.\n",
      "/home/nt-nb/miniconda3/envs/trueval/lib/python3.10/site-packages/langchain/chains/llm.py:308: UserWarning: The apply_and_parse method is deprecated, instead pass an output parser directly to LLMChain.\n",
      "  warnings.warn(\n"
     ]
    },
    {
     "name": "stdout",
     "output_type": "stream",
     "text": [
      "✅ added record record_hash_11cec2ea8229166c1884bf0d16894b19\n",
      "✅ feedback result Answer Relevance DONE feedback_result_hash_f0779ed63f130c18460ae5474bbc781e\n",
      "✅ feedback result Groundedness DONE feedback_result_hash_a473a1657aa7de44375226cd43bb5531\n",
      "✅ feedback result Context Relevance DONE feedback_result_hash_7d1314e9498054a3668a8a33a9782b61\n"
     ]
    },
    {
     "name": "stderr",
     "output_type": "stream",
     "text": [
      "A new object of type <class 'langchain.chains.retrieval_qa.base.RetrievalQA'> at 0x7efe17496600 is calling an instrumented method <function BaseRetrievalQA._call at 0x7efe46264c10>. The path of this call may be incorrect.\n",
      "Guessing path of new object is app based on other object (0x7efe17b336c0) using this function.\n",
      "A new object of type <class 'langchain.chains.combine_documents.map_rerank.MapRerankDocumentsChain'> at 0x7efe174954c0 is calling an instrumented method <function BaseCombineDocumentsChain._call at 0x7efe81164a60>. The path of this call may be incorrect.\n",
      "Guessing path of new object is app.combine_documents_chain based on other object (0x7efe17b30940) using this function.\n",
      "/home/nt-nb/miniconda3/envs/trueval/lib/python3.10/site-packages/langchain/chains/llm.py:308: UserWarning: The apply_and_parse method is deprecated, instead pass an output parser directly to LLMChain.\n",
      "  warnings.warn(\n"
     ]
    },
    {
     "name": "stdout",
     "output_type": "stream",
     "text": [
      "✅ added record record_hash_71e278dddf4ca687a0c25b3b5c45ed30\n",
      "✅ feedback result Answer Relevance DONE feedback_result_hash_ec3db1984043368951dbfc926118da86\n",
      "✅ feedback result Groundedness DONE feedback_result_hash_e1db001603c013e0c97b9e9e37aeb123\n",
      "✅ feedback result Context Relevance DONE feedback_result_hash_973a6757b6627fca5438d4e9247200bd\n"
     ]
    },
    {
     "name": "stderr",
     "output_type": "stream",
     "text": [
      "A new object of type <class 'langchain.chains.retrieval_qa.base.RetrievalQA'> at 0x7efe17496600 is calling an instrumented method <function BaseRetrievalQA._call at 0x7efe46264c10>. The path of this call may be incorrect.\n",
      "Guessing path of new object is app based on other object (0x7efe17b336c0) using this function.\n",
      "A new object of type <class 'langchain.chains.combine_documents.map_rerank.MapRerankDocumentsChain'> at 0x7efe174954c0 is calling an instrumented method <function BaseCombineDocumentsChain._call at 0x7efe81164a60>. The path of this call may be incorrect.\n",
      "Guessing path of new object is app.combine_documents_chain based on other object (0x7efe17b30940) using this function.\n",
      "/home/nt-nb/miniconda3/envs/trueval/lib/python3.10/site-packages/langchain/chains/llm.py:308: UserWarning: The apply_and_parse method is deprecated, instead pass an output parser directly to LLMChain.\n",
      "  warnings.warn(\n"
     ]
    },
    {
     "name": "stdout",
     "output_type": "stream",
     "text": [
      "✅ added record record_hash_49738b993682cfca67e55c79e782651d\n",
      "✅ feedback result Answer Relevance DONE feedback_result_hash_410de74aeebed33ac549bd7faac1d102\n",
      "✅ feedback result Groundedness DONE feedback_result_hash_86d6cdaea3992f0014b7240d5311107c\n",
      "✅ feedback result Context Relevance DONE feedback_result_hash_bb70a7d8baa7550b04ef8952f3ab2b75\n"
     ]
    },
    {
     "name": "stderr",
     "output_type": "stream",
     "text": [
      "A new object of type <class 'langchain.chains.retrieval_qa.base.RetrievalQA'> at 0x7efe17496600 is calling an instrumented method <function BaseRetrievalQA._call at 0x7efe46264c10>. The path of this call may be incorrect.\n",
      "Guessing path of new object is app based on other object (0x7efe17b336c0) using this function.\n",
      "A new object of type <class 'langchain.chains.combine_documents.map_rerank.MapRerankDocumentsChain'> at 0x7efe174954c0 is calling an instrumented method <function BaseCombineDocumentsChain._call at 0x7efe81164a60>. The path of this call may be incorrect.\n",
      "Guessing path of new object is app.combine_documents_chain based on other object (0x7efe17b30940) using this function.\n",
      "/home/nt-nb/miniconda3/envs/trueval/lib/python3.10/site-packages/langchain/chains/llm.py:308: UserWarning: The apply_and_parse method is deprecated, instead pass an output parser directly to LLMChain.\n",
      "  warnings.warn(\n"
     ]
    },
    {
     "name": "stdout",
     "output_type": "stream",
     "text": [
      "✅ added record record_hash_3909f849d8087ad912cdd633cbeb278c\n",
      "✅ feedback result Answer Relevance DONE feedback_result_hash_b6b0102b6d76e2acd448fc8166982e1b\n",
      "✅ feedback result Context Relevance DONE feedback_result_hash_202c7422eed56da060a1d2ad1a5dd8cb\n",
      "✅ feedback result Groundedness DONE feedback_result_hash_a723d01933f6f87f1e2ff2a2a0f4e105\n"
     ]
    },
    {
     "name": "stderr",
     "output_type": "stream",
     "text": [
      "A new object of type <class 'langchain.chains.retrieval_qa.base.RetrievalQA'> at 0x7efe17496600 is calling an instrumented method <function BaseRetrievalQA._call at 0x7efe46264c10>. The path of this call may be incorrect.\n",
      "Guessing path of new object is app based on other object (0x7efe17b336c0) using this function.\n",
      "A new object of type <class 'langchain.chains.combine_documents.map_rerank.MapRerankDocumentsChain'> at 0x7efe174954c0 is calling an instrumented method <function BaseCombineDocumentsChain._call at 0x7efe81164a60>. The path of this call may be incorrect.\n",
      "Guessing path of new object is app.combine_documents_chain based on other object (0x7efe17b30940) using this function.\n",
      "/home/nt-nb/miniconda3/envs/trueval/lib/python3.10/site-packages/langchain/chains/llm.py:308: UserWarning: The apply_and_parse method is deprecated, instead pass an output parser directly to LLMChain.\n",
      "  warnings.warn(\n"
     ]
    },
    {
     "name": "stdout",
     "output_type": "stream",
     "text": [
      "✅ added record record_hash_d6fae313011e4074365b4adbef9fea24\n",
      "✅ feedback result Answer Relevance DONE feedback_result_hash_e8a03ded70d28670333daafc4cd1ec15\n",
      "✅ feedback result Groundedness DONE feedback_result_hash_547c81351f63a499afa6fcee298fbd50\n",
      "✅ feedback result Context Relevance DONE feedback_result_hash_e525665a52a7016964a16432811ce1ac\n"
     ]
    },
    {
     "name": "stderr",
     "output_type": "stream",
     "text": [
      "A new object of type <class 'langchain.chains.retrieval_qa.base.RetrievalQA'> at 0x7efe17496600 is calling an instrumented method <function BaseRetrievalQA._call at 0x7efe46264c10>. The path of this call may be incorrect.\n",
      "Guessing path of new object is app based on other object (0x7efe17b336c0) using this function.\n",
      "A new object of type <class 'langchain.chains.combine_documents.map_rerank.MapRerankDocumentsChain'> at 0x7efe174954c0 is calling an instrumented method <function BaseCombineDocumentsChain._call at 0x7efe81164a60>. The path of this call may be incorrect.\n",
      "Guessing path of new object is app.combine_documents_chain based on other object (0x7efe17b30940) using this function.\n",
      "/home/nt-nb/miniconda3/envs/trueval/lib/python3.10/site-packages/langchain/chains/llm.py:308: UserWarning: The apply_and_parse method is deprecated, instead pass an output parser directly to LLMChain.\n",
      "  warnings.warn(\n"
     ]
    },
    {
     "name": "stdout",
     "output_type": "stream",
     "text": [
      "✅ added record record_hash_9de8d5b73e3713baa7b3a6cbf91cac11\n",
      "✅ feedback result Answer Relevance DONE feedback_result_hash_04a1ac48b8a9b38a2eff7257607731e2\n",
      "✅ feedback result Groundedness DONE feedback_result_hash_59dfdc554f3c3d6746850f95b69619fb\n",
      "✅ feedback result Context Relevance DONE feedback_result_hash_f48a3fee9d949103a18531b59bce34b2\n"
     ]
    },
    {
     "name": "stderr",
     "output_type": "stream",
     "text": [
      "A new object of type <class 'langchain.chains.retrieval_qa.base.RetrievalQA'> at 0x7efe17496600 is calling an instrumented method <function BaseRetrievalQA._call at 0x7efe46264c10>. The path of this call may be incorrect.\n",
      "Guessing path of new object is app based on other object (0x7efe17b336c0) using this function.\n",
      "A new object of type <class 'langchain.chains.combine_documents.map_rerank.MapRerankDocumentsChain'> at 0x7efe174954c0 is calling an instrumented method <function BaseCombineDocumentsChain._call at 0x7efe81164a60>. The path of this call may be incorrect.\n",
      "Guessing path of new object is app.combine_documents_chain based on other object (0x7efe17b30940) using this function.\n",
      "/home/nt-nb/miniconda3/envs/trueval/lib/python3.10/site-packages/langchain/chains/llm.py:308: UserWarning: The apply_and_parse method is deprecated, instead pass an output parser directly to LLMChain.\n",
      "  warnings.warn(\n"
     ]
    },
    {
     "name": "stdout",
     "output_type": "stream",
     "text": [
      "✅ added record record_hash_7322399d51d03e92f52ce9ff17641c82\n",
      "✅ feedback result Answer Relevance DONE feedback_result_hash_afaf481ba7bfa602a039e1980b3aec77\n",
      "✅ feedback result Context Relevance DONE feedback_result_hash_05b65b470a427ffae5c316de11e22479\n",
      "✅ feedback result Groundedness DONE feedback_result_hash_ac75344ef3bd9ad4b21010e65567daff\n"
     ]
    },
    {
     "name": "stderr",
     "output_type": "stream",
     "text": [
      "A new object of type <class 'langchain.chains.retrieval_qa.base.RetrievalQA'> at 0x7efe17496600 is calling an instrumented method <function BaseRetrievalQA._call at 0x7efe46264c10>. The path of this call may be incorrect.\n",
      "Guessing path of new object is app based on other object (0x7efe17b336c0) using this function.\n",
      "A new object of type <class 'langchain.chains.combine_documents.map_rerank.MapRerankDocumentsChain'> at 0x7efe174954c0 is calling an instrumented method <function BaseCombineDocumentsChain._call at 0x7efe81164a60>. The path of this call may be incorrect.\n",
      "Guessing path of new object is app.combine_documents_chain based on other object (0x7efe17b30940) using this function.\n",
      "/home/nt-nb/miniconda3/envs/trueval/lib/python3.10/site-packages/langchain/chains/llm.py:308: UserWarning: The apply_and_parse method is deprecated, instead pass an output parser directly to LLMChain.\n",
      "  warnings.warn(\n"
     ]
    },
    {
     "name": "stdout",
     "output_type": "stream",
     "text": [
      "✅ added record record_hash_3bb3ca782388352eba389de12fd426ff\n",
      "✅ feedback result Answer Relevance DONE feedback_result_hash_0260bc7dd9e1edb9fa8a44cab5300e5e\n",
      "✅ feedback result Groundedness DONE feedback_result_hash_f33ef875638ba71de478402281e97ca5\n",
      "✅ feedback result Context Relevance DONE feedback_result_hash_4de02245b199ab6fcf2af14e477002bd\n"
     ]
    },
    {
     "name": "stderr",
     "output_type": "stream",
     "text": [
      "A new object of type <class 'langchain.chains.retrieval_qa.base.RetrievalQA'> at 0x7efe17496600 is calling an instrumented method <function BaseRetrievalQA._call at 0x7efe46264c10>. The path of this call may be incorrect.\n",
      "Guessing path of new object is app based on other object (0x7efe17b336c0) using this function.\n",
      "A new object of type <class 'langchain.chains.combine_documents.map_rerank.MapRerankDocumentsChain'> at 0x7efe174954c0 is calling an instrumented method <function BaseCombineDocumentsChain._call at 0x7efe81164a60>. The path of this call may be incorrect.\n",
      "Guessing path of new object is app.combine_documents_chain based on other object (0x7efe17b30940) using this function.\n",
      "/home/nt-nb/miniconda3/envs/trueval/lib/python3.10/site-packages/langchain/chains/llm.py:308: UserWarning: The apply_and_parse method is deprecated, instead pass an output parser directly to LLMChain.\n",
      "  warnings.warn(\n"
     ]
    },
    {
     "name": "stdout",
     "output_type": "stream",
     "text": [
      "✅ added record record_hash_34f0a272462c31cd733aeff3d14b0a2f\n",
      "✅ feedback result Answer Relevance DONE feedback_result_hash_9f0033117a04c5d4e8a7daea7a3adf90\n",
      "✅ feedback result Groundedness DONE feedback_result_hash_284ee90b1ef509a27ec0ce0b6621cca9\n",
      "✅ feedback result Context Relevance DONE feedback_result_hash_6d3f7a30d5a1960fec33245d3bf2292e\n"
     ]
    }
   ],
   "source": [
    "import time\n",
    "\n",
    "with tru_recorder as recording:\n",
    "    for question in eval_questions[11:]:\n",
    "        response = qa({\"query\": question})\n",
    "        time.sleep(20)"
   ]
  },
  {
   "cell_type": "code",
   "execution_count": 48,
   "metadata": {},
   "outputs": [
    {
     "data": {
      "text/html": [
       "<div>\n",
       "<style scoped>\n",
       "    .dataframe tbody tr th:only-of-type {\n",
       "        vertical-align: middle;\n",
       "    }\n",
       "\n",
       "    .dataframe tbody tr th {\n",
       "        vertical-align: top;\n",
       "    }\n",
       "\n",
       "    .dataframe thead th {\n",
       "        text-align: right;\n",
       "    }\n",
       "</style>\n",
       "<table border=\"1\" class=\"dataframe\">\n",
       "  <thead>\n",
       "    <tr style=\"text-align: right;\">\n",
       "      <th></th>\n",
       "      <th>app_id</th>\n",
       "      <th>app_json</th>\n",
       "      <th>type</th>\n",
       "      <th>record_id</th>\n",
       "      <th>input</th>\n",
       "      <th>output</th>\n",
       "      <th>tags</th>\n",
       "      <th>record_json</th>\n",
       "      <th>cost_json</th>\n",
       "      <th>perf_json</th>\n",
       "      <th>ts</th>\n",
       "      <th>Answer Relevance</th>\n",
       "      <th>Groundedness</th>\n",
       "      <th>Context Relevance</th>\n",
       "      <th>Answer Relevance_calls</th>\n",
       "      <th>Groundedness_calls</th>\n",
       "      <th>Context Relevance_calls</th>\n",
       "      <th>latency</th>\n",
       "      <th>total_tokens</th>\n",
       "      <th>total_cost</th>\n",
       "    </tr>\n",
       "  </thead>\n",
       "  <tbody>\n",
       "    <tr>\n",
       "      <th>0</th>\n",
       "      <td>Retrieval Map-rerank Chain</td>\n",
       "      <td>{\"app_id\": \"Retrieval Map-rerank Chain\", \"tags...</td>\n",
       "      <td>RetrievalQA(langchain.chains.retrieval_qa.base)</td>\n",
       "      <td>record_hash_5fa3f5652c19f6b68984643704013f74</td>\n",
       "      <td>\"What is the company's total revenue, and how ...</td>\n",
       "      <td>\"This document does not answer the question\"</td>\n",
       "      <td>-</td>\n",
       "      <td>{\"record_id\": \"record_hash_5fa3f5652c19f6b6898...</td>\n",
       "      <td>{\"n_requests\": 0, \"n_successful_requests\": 0, ...</td>\n",
       "      <td>{\"start_time\": \"2023-12-07T17:33:45.059390\", \"...</td>\n",
       "      <td>2023-12-07T17:33:47.247871</td>\n",
       "      <td>0.0</td>\n",
       "      <td>0.0</td>\n",
       "      <td>0.3</td>\n",
       "      <td>[{'args': {'prompt': 'What is the company's to...</td>\n",
       "      <td>[{'args': {'source': 'In addition to the long-...</td>\n",
       "      <td>[{'args': {'prompt': 'What is the company's to...</td>\n",
       "      <td>2</td>\n",
       "      <td>0</td>\n",
       "      <td>0.0</td>\n",
       "    </tr>\n",
       "    <tr>\n",
       "      <th>1</th>\n",
       "      <td>Retrieval Map-rerank Chain</td>\n",
       "      <td>{\"app_id\": \"Retrieval Map-rerank Chain\", \"tags...</td>\n",
       "      <td>RetrievalQA(langchain.chains.retrieval_qa.base)</td>\n",
       "      <td>record_hash_c27f0358cd883ceb3f06f69660cf620f</td>\n",
       "      <td>\"What are the main sources of revenue for the ...</td>\n",
       "      <td>\"This document does not answer the question\"</td>\n",
       "      <td>-</td>\n",
       "      <td>{\"record_id\": \"record_hash_c27f0358cd883ceb3f0...</td>\n",
       "      <td>{\"n_requests\": 0, \"n_successful_requests\": 0, ...</td>\n",
       "      <td>{\"start_time\": \"2023-12-07T17:34:07.701229\", \"...</td>\n",
       "      <td>2023-12-07T17:34:10.203245</td>\n",
       "      <td>0.0</td>\n",
       "      <td>0.0</td>\n",
       "      <td>0.0</td>\n",
       "      <td>[{'args': {'prompt': 'What are the main source...</td>\n",
       "      <td>[{'args': {'source': 'Sources, Uses of Cash, a...</td>\n",
       "      <td>[{'args': {'prompt': 'What are the main source...</td>\n",
       "      <td>2</td>\n",
       "      <td>0</td>\n",
       "      <td>0.0</td>\n",
       "    </tr>\n",
       "    <tr>\n",
       "      <th>2</th>\n",
       "      <td>Retrieval Map-rerank Chain</td>\n",
       "      <td>{\"app_id\": \"Retrieval Map-rerank Chain\", \"tags...</td>\n",
       "      <td>RetrievalQA(langchain.chains.retrieval_qa.base)</td>\n",
       "      <td>record_hash_f85a7eb70ab0154aaa0800abf94e96ba</td>\n",
       "      <td>\"How has the company's profitability (net inco...</td>\n",
       "      <td>\"This document does not answer the question\"</td>\n",
       "      <td>-</td>\n",
       "      <td>{\"record_id\": \"record_hash_f85a7eb70ab0154aaa0...</td>\n",
       "      <td>{\"n_requests\": 0, \"n_successful_requests\": 0, ...</td>\n",
       "      <td>{\"start_time\": \"2023-12-07T17:34:30.805436\", \"...</td>\n",
       "      <td>2023-12-07T17:34:33.147119</td>\n",
       "      <td>0.0</td>\n",
       "      <td>0.0</td>\n",
       "      <td>0.2</td>\n",
       "      <td>[{'args': {'prompt': 'How has the company's pr...</td>\n",
       "      <td>[{'args': {'source': 'ITEM 7. MANAGEMENT’S DIS...</td>\n",
       "      <td>[{'args': {'prompt': 'How has the company's pr...</td>\n",
       "      <td>2</td>\n",
       "      <td>0</td>\n",
       "      <td>0.0</td>\n",
       "    </tr>\n",
       "    <tr>\n",
       "      <th>3</th>\n",
       "      <td>Retrieval Map-rerank Chain</td>\n",
       "      <td>{\"app_id\": \"Retrieval Map-rerank Chain\", \"tags...</td>\n",
       "      <td>RetrievalQA(langchain.chains.retrieval_qa.base)</td>\n",
       "      <td>record_hash_f456c98a842f60750ab953a4489230c7</td>\n",
       "      <td>\"What are the major components of the company'...</td>\n",
       "      <td>\"This document does not answer the question\"</td>\n",
       "      <td>-</td>\n",
       "      <td>{\"record_id\": \"record_hash_f456c98a842f60750ab...</td>\n",
       "      <td>{\"n_requests\": 0, \"n_successful_requests\": 0, ...</td>\n",
       "      <td>{\"start_time\": \"2023-12-07T17:34:53.604902\", \"...</td>\n",
       "      <td>2023-12-07T17:34:55.881363</td>\n",
       "      <td>0.0</td>\n",
       "      <td>0.0</td>\n",
       "      <td>0.0</td>\n",
       "      <td>[{'args': {'prompt': 'What are the major compo...</td>\n",
       "      <td>[{'args': {'source': 'The main components of o...</td>\n",
       "      <td>[{'args': {'prompt': 'What are the major compo...</td>\n",
       "      <td>2</td>\n",
       "      <td>0</td>\n",
       "      <td>0.0</td>\n",
       "    </tr>\n",
       "    <tr>\n",
       "      <th>4</th>\n",
       "      <td>Retrieval Map-rerank Chain</td>\n",
       "      <td>{\"app_id\": \"Retrieval Map-rerank Chain\", \"tags...</td>\n",
       "      <td>RetrievalQA(langchain.chains.retrieval_qa.base)</td>\n",
       "      <td>record_hash_558ffbb7f1104f4c0051d53cd5e7a9c6</td>\n",
       "      <td>\"How have operating expenses (selling, general...</td>\n",
       "      <td>\"Operating expenses increased by 10.6% from 20...</td>\n",
       "      <td>-</td>\n",
       "      <td>{\"record_id\": \"record_hash_558ffbb7f1104f4c005...</td>\n",
       "      <td>{\"n_requests\": 0, \"n_successful_requests\": 0, ...</td>\n",
       "      <td>{\"start_time\": \"2023-12-07T17:35:16.424508\", \"...</td>\n",
       "      <td>2023-12-07T17:35:19.423937</td>\n",
       "      <td>1.0</td>\n",
       "      <td>1.0</td>\n",
       "      <td>0.9</td>\n",
       "      <td>[{'args': {'prompt': 'How have operating expen...</td>\n",
       "      <td>[{'args': {'source': 'Research and Development...</td>\n",
       "      <td>[{'args': {'prompt': 'How have operating expen...</td>\n",
       "      <td>2</td>\n",
       "      <td>0</td>\n",
       "      <td>0.0</td>\n",
       "    </tr>\n",
       "  </tbody>\n",
       "</table>\n",
       "</div>"
      ],
      "text/plain": [
       "                       app_id  \\\n",
       "0  Retrieval Map-rerank Chain   \n",
       "1  Retrieval Map-rerank Chain   \n",
       "2  Retrieval Map-rerank Chain   \n",
       "3  Retrieval Map-rerank Chain   \n",
       "4  Retrieval Map-rerank Chain   \n",
       "\n",
       "                                            app_json  \\\n",
       "0  {\"app_id\": \"Retrieval Map-rerank Chain\", \"tags...   \n",
       "1  {\"app_id\": \"Retrieval Map-rerank Chain\", \"tags...   \n",
       "2  {\"app_id\": \"Retrieval Map-rerank Chain\", \"tags...   \n",
       "3  {\"app_id\": \"Retrieval Map-rerank Chain\", \"tags...   \n",
       "4  {\"app_id\": \"Retrieval Map-rerank Chain\", \"tags...   \n",
       "\n",
       "                                              type  \\\n",
       "0  RetrievalQA(langchain.chains.retrieval_qa.base)   \n",
       "1  RetrievalQA(langchain.chains.retrieval_qa.base)   \n",
       "2  RetrievalQA(langchain.chains.retrieval_qa.base)   \n",
       "3  RetrievalQA(langchain.chains.retrieval_qa.base)   \n",
       "4  RetrievalQA(langchain.chains.retrieval_qa.base)   \n",
       "\n",
       "                                      record_id  \\\n",
       "0  record_hash_5fa3f5652c19f6b68984643704013f74   \n",
       "1  record_hash_c27f0358cd883ceb3f06f69660cf620f   \n",
       "2  record_hash_f85a7eb70ab0154aaa0800abf94e96ba   \n",
       "3  record_hash_f456c98a842f60750ab953a4489230c7   \n",
       "4  record_hash_558ffbb7f1104f4c0051d53cd5e7a9c6   \n",
       "\n",
       "                                               input  \\\n",
       "0  \"What is the company's total revenue, and how ...   \n",
       "1  \"What are the main sources of revenue for the ...   \n",
       "2  \"How has the company's profitability (net inco...   \n",
       "3  \"What are the major components of the company'...   \n",
       "4  \"How have operating expenses (selling, general...   \n",
       "\n",
       "                                              output tags  \\\n",
       "0       \"This document does not answer the question\"    -   \n",
       "1       \"This document does not answer the question\"    -   \n",
       "2       \"This document does not answer the question\"    -   \n",
       "3       \"This document does not answer the question\"    -   \n",
       "4  \"Operating expenses increased by 10.6% from 20...    -   \n",
       "\n",
       "                                         record_json  \\\n",
       "0  {\"record_id\": \"record_hash_5fa3f5652c19f6b6898...   \n",
       "1  {\"record_id\": \"record_hash_c27f0358cd883ceb3f0...   \n",
       "2  {\"record_id\": \"record_hash_f85a7eb70ab0154aaa0...   \n",
       "3  {\"record_id\": \"record_hash_f456c98a842f60750ab...   \n",
       "4  {\"record_id\": \"record_hash_558ffbb7f1104f4c005...   \n",
       "\n",
       "                                           cost_json  \\\n",
       "0  {\"n_requests\": 0, \"n_successful_requests\": 0, ...   \n",
       "1  {\"n_requests\": 0, \"n_successful_requests\": 0, ...   \n",
       "2  {\"n_requests\": 0, \"n_successful_requests\": 0, ...   \n",
       "3  {\"n_requests\": 0, \"n_successful_requests\": 0, ...   \n",
       "4  {\"n_requests\": 0, \"n_successful_requests\": 0, ...   \n",
       "\n",
       "                                           perf_json  \\\n",
       "0  {\"start_time\": \"2023-12-07T17:33:45.059390\", \"...   \n",
       "1  {\"start_time\": \"2023-12-07T17:34:07.701229\", \"...   \n",
       "2  {\"start_time\": \"2023-12-07T17:34:30.805436\", \"...   \n",
       "3  {\"start_time\": \"2023-12-07T17:34:53.604902\", \"...   \n",
       "4  {\"start_time\": \"2023-12-07T17:35:16.424508\", \"...   \n",
       "\n",
       "                           ts  Answer Relevance  Groundedness  \\\n",
       "0  2023-12-07T17:33:47.247871               0.0           0.0   \n",
       "1  2023-12-07T17:34:10.203245               0.0           0.0   \n",
       "2  2023-12-07T17:34:33.147119               0.0           0.0   \n",
       "3  2023-12-07T17:34:55.881363               0.0           0.0   \n",
       "4  2023-12-07T17:35:19.423937               1.0           1.0   \n",
       "\n",
       "   Context Relevance                             Answer Relevance_calls  \\\n",
       "0                0.3  [{'args': {'prompt': 'What is the company's to...   \n",
       "1                0.0  [{'args': {'prompt': 'What are the main source...   \n",
       "2                0.2  [{'args': {'prompt': 'How has the company's pr...   \n",
       "3                0.0  [{'args': {'prompt': 'What are the major compo...   \n",
       "4                0.9  [{'args': {'prompt': 'How have operating expen...   \n",
       "\n",
       "                                  Groundedness_calls  \\\n",
       "0  [{'args': {'source': 'In addition to the long-...   \n",
       "1  [{'args': {'source': 'Sources, Uses of Cash, a...   \n",
       "2  [{'args': {'source': 'ITEM 7. MANAGEMENT’S DIS...   \n",
       "3  [{'args': {'source': 'The main components of o...   \n",
       "4  [{'args': {'source': 'Research and Development...   \n",
       "\n",
       "                             Context Relevance_calls  latency  total_tokens  \\\n",
       "0  [{'args': {'prompt': 'What is the company's to...        2             0   \n",
       "1  [{'args': {'prompt': 'What are the main source...        2             0   \n",
       "2  [{'args': {'prompt': 'How has the company's pr...        2             0   \n",
       "3  [{'args': {'prompt': 'What are the major compo...        2             0   \n",
       "4  [{'args': {'prompt': 'How have operating expen...        2             0   \n",
       "\n",
       "   total_cost  \n",
       "0         0.0  \n",
       "1         0.0  \n",
       "2         0.0  \n",
       "3         0.0  \n",
       "4         0.0  "
      ]
     },
     "execution_count": 48,
     "metadata": {},
     "output_type": "execute_result"
    }
   ],
   "source": [
    "records, feedback = tru.get_records_and_feedback(app_ids=[app_id])\n",
    "\n",
    "records.head()"
   ]
  },
  {
   "cell_type": "code",
   "execution_count": null,
   "metadata": {},
   "outputs": [],
   "source": []
  }
 ],
 "metadata": {
  "kernelspec": {
   "display_name": "trueval",
   "language": "python",
   "name": "python3"
  },
  "language_info": {
   "codemirror_mode": {
    "name": "ipython",
    "version": 3
   },
   "file_extension": ".py",
   "mimetype": "text/x-python",
   "name": "python",
   "nbconvert_exporter": "python",
   "pygments_lexer": "ipython3",
   "version": "3.10.12"
  }
 },
 "nbformat": 4,
 "nbformat_minor": 2
}
